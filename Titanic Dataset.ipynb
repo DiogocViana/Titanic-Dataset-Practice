{
 "cells": [
  {
   "cell_type": "markdown",
   "id": "78b3375e",
   "metadata": {},
   "source": [
    "#### Author: Diogo Viana\n",
    "\n",
    "#### Data Scientist\n",
    "\n",
    "2023\n",
    "\n",
    "Contact information:\n",
    "- https://github.com/DiogocViana\n",
    "- https://www.linkedin.com/in/diogo-viana/"
   ]
  },
  {
   "cell_type": "markdown",
   "id": "e4709f99",
   "metadata": {},
   "source": [
    "COMPETITION-SPECIFIC TERMS\n",
    "COMPETITION TITLE: Titanic - Machine Learning from Disaster\n",
    "\n",
    "COMPETITION SPONSOR: Kaggle\n",
    "\n",
    "COMPETITION SPONSOR ADDRESS: 1600 Amphitheatre Pkwy, Mountain View, CA 94043\n",
    "\n",
    "COMPETITION WEBSITE: https://www.kaggle.com/c/titanic\n",
    "\n",
    "DATA ACCESS AND USE: Competition Use and Academic, Non-Commercial Use Only"
   ]
  },
  {
   "cell_type": "markdown",
   "id": "0674f42e",
   "metadata": {},
   "source": [
    "## Introduction"
   ]
  },
  {
   "cell_type": "markdown",
   "id": "fdd8a251",
   "metadata": {},
   "source": [
    "### The goal was to predict survivors of the tragic sinking of the titanic based passenger information such as age, sex and socio-economic status.\n",
    "\n"
   ]
  },
  {
   "cell_type": "markdown",
   "id": "9d21eb1d",
   "metadata": {},
   "source": [
    "Columns in the dataset\n",
    "The columns present in the dataset are as follows:\n",
    "\n",
    "    1.PassengerId: This column assigns a unique identifier for each passenger.\n",
    "    \n",
    "    2.Survived: Specifies whether the given passenger survived or not (1 - survived, 0 - did not survive)\n",
    "    \n",
    "    3.Pclass: The passenger's class. (1 = Upper Deck, 2 = Middle Deck, 3 = Lower Deck)\n",
    "    \n",
    "    4.Name: The name of the passenger.\n",
    "    \n",
    "    5.Sex: The sex of the passenger (male, female)\n",
    "    \n",
    "    6.Age: The age of the passenger in years. If the age is estimated, is it in the form of xx.5.\n",
    "    \n",
    "    7.SibSp: How many siblings or spouses the passenger had on board with them. Sibling = brother, sister, stepbrother, stepsister and Spouse = husband, wife (mistresses and fiancés were ignored)\n",
    "    \n",
    "    8.Parch: How many parents or children the passenger had on boad with them. Parent = mother and father, child = daughter, son, stepdaughter and stepson and some children travelled only with a nanny, therefore parch=0 for them.\n",
    "    \n",
    "    9.Ticket: The ticket of the passenger.\n",
    "    \n",
    "    10.Fare: The fare amount paid by the passenger for the trip.\n",
    "    \n",
    "    11.Cabin: The cabin in which the passenger stayed.\n",
    "    \n",
    "    12.Embarked: The place from which the passenger embarked (C = Cherbourg; Q = Queenstown; S = Southampton)"
   ]
  },
  {
   "cell_type": "markdown",
   "id": "9f9bda41",
   "metadata": {},
   "source": [
    "In the next part I will import the libraries that I will use during my analysis."
   ]
  },
  {
   "cell_type": "code",
   "execution_count": 99,
   "id": "47a7b688",
   "metadata": {},
   "outputs": [],
   "source": [
    "import numpy as np\n",
    "import pandas as pd\n",
    "import matplotlib.pyplot as plt\n",
    "import seaborn as sns\n",
    "\n",
    "import statsmodels.api as sm\n",
    "from statsmodels.regression import linear_model\n",
    "from scipy import stats\n",
    "from scipy.stats import norm\n",
    "\n",
    "import warnings\n",
    "warnings.filterwarnings('ignore')\n",
    "\n",
    "%matplotlib inline"
   ]
  },
  {
   "cell_type": "markdown",
   "id": "650b6c65",
   "metadata": {},
   "source": [
    "After importing the libraries, I will tell Python to read the csv file."
   ]
  },
  {
   "cell_type": "code",
   "execution_count": 100,
   "id": "46b1cc8b",
   "metadata": {},
   "outputs": [],
   "source": [
    "# I am calling the Train dataframe as train and Test dataframe as test\n",
    "\n",
    "df = pd.read_csv(\"train.csv\")\n",
    "\n",
    "df_test = pd.read_csv(\"test.csv\")"
   ]
  },
  {
   "cell_type": "markdown",
   "id": "d0c73737",
   "metadata": {},
   "source": [
    "Now that I have read the file, I will check it by doing an exploratory data analysis (EDA)."
   ]
  },
  {
   "cell_type": "markdown",
   "id": "180ee608",
   "metadata": {},
   "source": [
    "## Data Cleaning"
   ]
  },
  {
   "cell_type": "markdown",
   "id": "191b07f8",
   "metadata": {},
   "source": [
    "**Preparing the data**"
   ]
  },
  {
   "cell_type": "markdown",
   "id": "b4498565",
   "metadata": {},
   "source": [
    "Now, I will complete the data cleaning on the train dataset."
   ]
  },
  {
   "cell_type": "code",
   "execution_count": 101,
   "id": "955bcfad",
   "metadata": {},
   "outputs": [
    {
     "data": {
      "text/html": [
       "<div>\n",
       "<style scoped>\n",
       "    .dataframe tbody tr th:only-of-type {\n",
       "        vertical-align: middle;\n",
       "    }\n",
       "\n",
       "    .dataframe tbody tr th {\n",
       "        vertical-align: top;\n",
       "    }\n",
       "\n",
       "    .dataframe thead th {\n",
       "        text-align: right;\n",
       "    }\n",
       "</style>\n",
       "<table border=\"1\" class=\"dataframe\">\n",
       "  <thead>\n",
       "    <tr style=\"text-align: right;\">\n",
       "      <th></th>\n",
       "      <th>PassengerId</th>\n",
       "      <th>Survived</th>\n",
       "      <th>Pclass</th>\n",
       "      <th>Name</th>\n",
       "      <th>Sex</th>\n",
       "      <th>Age</th>\n",
       "      <th>SibSp</th>\n",
       "      <th>Parch</th>\n",
       "      <th>Ticket</th>\n",
       "      <th>Fare</th>\n",
       "      <th>Cabin</th>\n",
       "      <th>Embarked</th>\n",
       "    </tr>\n",
       "  </thead>\n",
       "  <tbody>\n",
       "    <tr>\n",
       "      <th>0</th>\n",
       "      <td>1</td>\n",
       "      <td>0</td>\n",
       "      <td>3</td>\n",
       "      <td>Braund, Mr. Owen Harris</td>\n",
       "      <td>male</td>\n",
       "      <td>22.0</td>\n",
       "      <td>1</td>\n",
       "      <td>0</td>\n",
       "      <td>A/5 21171</td>\n",
       "      <td>7.2500</td>\n",
       "      <td>NaN</td>\n",
       "      <td>S</td>\n",
       "    </tr>\n",
       "    <tr>\n",
       "      <th>1</th>\n",
       "      <td>2</td>\n",
       "      <td>1</td>\n",
       "      <td>1</td>\n",
       "      <td>Cumings, Mrs. John Bradley (Florence Briggs Th...</td>\n",
       "      <td>female</td>\n",
       "      <td>38.0</td>\n",
       "      <td>1</td>\n",
       "      <td>0</td>\n",
       "      <td>PC 17599</td>\n",
       "      <td>71.2833</td>\n",
       "      <td>C85</td>\n",
       "      <td>C</td>\n",
       "    </tr>\n",
       "    <tr>\n",
       "      <th>2</th>\n",
       "      <td>3</td>\n",
       "      <td>1</td>\n",
       "      <td>3</td>\n",
       "      <td>Heikkinen, Miss. Laina</td>\n",
       "      <td>female</td>\n",
       "      <td>26.0</td>\n",
       "      <td>0</td>\n",
       "      <td>0</td>\n",
       "      <td>STON/O2. 3101282</td>\n",
       "      <td>7.9250</td>\n",
       "      <td>NaN</td>\n",
       "      <td>S</td>\n",
       "    </tr>\n",
       "    <tr>\n",
       "      <th>3</th>\n",
       "      <td>4</td>\n",
       "      <td>1</td>\n",
       "      <td>1</td>\n",
       "      <td>Futrelle, Mrs. Jacques Heath (Lily May Peel)</td>\n",
       "      <td>female</td>\n",
       "      <td>35.0</td>\n",
       "      <td>1</td>\n",
       "      <td>0</td>\n",
       "      <td>113803</td>\n",
       "      <td>53.1000</td>\n",
       "      <td>C123</td>\n",
       "      <td>S</td>\n",
       "    </tr>\n",
       "    <tr>\n",
       "      <th>4</th>\n",
       "      <td>5</td>\n",
       "      <td>0</td>\n",
       "      <td>3</td>\n",
       "      <td>Allen, Mr. William Henry</td>\n",
       "      <td>male</td>\n",
       "      <td>35.0</td>\n",
       "      <td>0</td>\n",
       "      <td>0</td>\n",
       "      <td>373450</td>\n",
       "      <td>8.0500</td>\n",
       "      <td>NaN</td>\n",
       "      <td>S</td>\n",
       "    </tr>\n",
       "  </tbody>\n",
       "</table>\n",
       "</div>"
      ],
      "text/plain": [
       "   PassengerId  Survived  Pclass  \\\n",
       "0            1         0       3   \n",
       "1            2         1       1   \n",
       "2            3         1       3   \n",
       "3            4         1       1   \n",
       "4            5         0       3   \n",
       "\n",
       "                                                Name     Sex   Age  SibSp  \\\n",
       "0                            Braund, Mr. Owen Harris    male  22.0      1   \n",
       "1  Cumings, Mrs. John Bradley (Florence Briggs Th...  female  38.0      1   \n",
       "2                             Heikkinen, Miss. Laina  female  26.0      0   \n",
       "3       Futrelle, Mrs. Jacques Heath (Lily May Peel)  female  35.0      1   \n",
       "4                           Allen, Mr. William Henry    male  35.0      0   \n",
       "\n",
       "   Parch            Ticket     Fare Cabin Embarked  \n",
       "0      0         A/5 21171   7.2500   NaN        S  \n",
       "1      0          PC 17599  71.2833   C85        C  \n",
       "2      0  STON/O2. 3101282   7.9250   NaN        S  \n",
       "3      0            113803  53.1000  C123        S  \n",
       "4      0            373450   8.0500   NaN        S  "
      ]
     },
     "execution_count": 101,
     "metadata": {},
     "output_type": "execute_result"
    }
   ],
   "source": [
    "# Checking the first rows in order to know what I have for my analysis\n",
    "\n",
    "df.head()"
   ]
  },
  {
   "cell_type": "markdown",
   "id": "02994b58",
   "metadata": {},
   "source": [
    "It looks like the Passengerid is a unique identifier.\n",
    "\n",
    "\n",
    "In the next line, I will rename some of the columns in order to easily read it"
   ]
  },
  {
   "cell_type": "code",
   "execution_count": 102,
   "id": "edd71476",
   "metadata": {},
   "outputs": [],
   "source": [
    "df.columns = ['passenger_id','survived','passenger_class','name','sex','age','sib_sp','parch','ticket','fare','cabin','embarked']"
   ]
  },
  {
   "cell_type": "code",
   "execution_count": 103,
   "id": "cffdbae1",
   "metadata": {},
   "outputs": [
    {
     "data": {
      "text/html": [
       "<div>\n",
       "<style scoped>\n",
       "    .dataframe tbody tr th:only-of-type {\n",
       "        vertical-align: middle;\n",
       "    }\n",
       "\n",
       "    .dataframe tbody tr th {\n",
       "        vertical-align: top;\n",
       "    }\n",
       "\n",
       "    .dataframe thead th {\n",
       "        text-align: right;\n",
       "    }\n",
       "</style>\n",
       "<table border=\"1\" class=\"dataframe\">\n",
       "  <thead>\n",
       "    <tr style=\"text-align: right;\">\n",
       "      <th></th>\n",
       "      <th>passenger_id</th>\n",
       "      <th>survived</th>\n",
       "      <th>passenger_class</th>\n",
       "      <th>name</th>\n",
       "      <th>sex</th>\n",
       "      <th>age</th>\n",
       "      <th>sib_sp</th>\n",
       "      <th>parch</th>\n",
       "      <th>ticket</th>\n",
       "      <th>fare</th>\n",
       "      <th>cabin</th>\n",
       "      <th>embarked</th>\n",
       "    </tr>\n",
       "  </thead>\n",
       "  <tbody>\n",
       "    <tr>\n",
       "      <th>0</th>\n",
       "      <td>1</td>\n",
       "      <td>0</td>\n",
       "      <td>3</td>\n",
       "      <td>Braund, Mr. Owen Harris</td>\n",
       "      <td>male</td>\n",
       "      <td>22.0</td>\n",
       "      <td>1</td>\n",
       "      <td>0</td>\n",
       "      <td>A/5 21171</td>\n",
       "      <td>7.2500</td>\n",
       "      <td>NaN</td>\n",
       "      <td>S</td>\n",
       "    </tr>\n",
       "    <tr>\n",
       "      <th>1</th>\n",
       "      <td>2</td>\n",
       "      <td>1</td>\n",
       "      <td>1</td>\n",
       "      <td>Cumings, Mrs. John Bradley (Florence Briggs Th...</td>\n",
       "      <td>female</td>\n",
       "      <td>38.0</td>\n",
       "      <td>1</td>\n",
       "      <td>0</td>\n",
       "      <td>PC 17599</td>\n",
       "      <td>71.2833</td>\n",
       "      <td>C85</td>\n",
       "      <td>C</td>\n",
       "    </tr>\n",
       "    <tr>\n",
       "      <th>2</th>\n",
       "      <td>3</td>\n",
       "      <td>1</td>\n",
       "      <td>3</td>\n",
       "      <td>Heikkinen, Miss. Laina</td>\n",
       "      <td>female</td>\n",
       "      <td>26.0</td>\n",
       "      <td>0</td>\n",
       "      <td>0</td>\n",
       "      <td>STON/O2. 3101282</td>\n",
       "      <td>7.9250</td>\n",
       "      <td>NaN</td>\n",
       "      <td>S</td>\n",
       "    </tr>\n",
       "    <tr>\n",
       "      <th>3</th>\n",
       "      <td>4</td>\n",
       "      <td>1</td>\n",
       "      <td>1</td>\n",
       "      <td>Futrelle, Mrs. Jacques Heath (Lily May Peel)</td>\n",
       "      <td>female</td>\n",
       "      <td>35.0</td>\n",
       "      <td>1</td>\n",
       "      <td>0</td>\n",
       "      <td>113803</td>\n",
       "      <td>53.1000</td>\n",
       "      <td>C123</td>\n",
       "      <td>S</td>\n",
       "    </tr>\n",
       "    <tr>\n",
       "      <th>4</th>\n",
       "      <td>5</td>\n",
       "      <td>0</td>\n",
       "      <td>3</td>\n",
       "      <td>Allen, Mr. William Henry</td>\n",
       "      <td>male</td>\n",
       "      <td>35.0</td>\n",
       "      <td>0</td>\n",
       "      <td>0</td>\n",
       "      <td>373450</td>\n",
       "      <td>8.0500</td>\n",
       "      <td>NaN</td>\n",
       "      <td>S</td>\n",
       "    </tr>\n",
       "  </tbody>\n",
       "</table>\n",
       "</div>"
      ],
      "text/plain": [
       "   passenger_id  survived  passenger_class  \\\n",
       "0             1         0                3   \n",
       "1             2         1                1   \n",
       "2             3         1                3   \n",
       "3             4         1                1   \n",
       "4             5         0                3   \n",
       "\n",
       "                                                name     sex   age  sib_sp  \\\n",
       "0                            Braund, Mr. Owen Harris    male  22.0       1   \n",
       "1  Cumings, Mrs. John Bradley (Florence Briggs Th...  female  38.0       1   \n",
       "2                             Heikkinen, Miss. Laina  female  26.0       0   \n",
       "3       Futrelle, Mrs. Jacques Heath (Lily May Peel)  female  35.0       1   \n",
       "4                           Allen, Mr. William Henry    male  35.0       0   \n",
       "\n",
       "   parch            ticket     fare cabin embarked  \n",
       "0      0         A/5 21171   7.2500   NaN        S  \n",
       "1      0          PC 17599  71.2833   C85        C  \n",
       "2      0  STON/O2. 3101282   7.9250   NaN        S  \n",
       "3      0            113803  53.1000  C123        S  \n",
       "4      0            373450   8.0500   NaN        S  "
      ]
     },
     "execution_count": 103,
     "metadata": {},
     "output_type": "execute_result"
    }
   ],
   "source": [
    "# Checking new columns name\n",
    "\n",
    "df.head()"
   ]
  },
  {
   "cell_type": "code",
   "execution_count": 104,
   "id": "f33812ff",
   "metadata": {},
   "outputs": [
    {
     "data": {
      "text/plain": [
       "(891, 12)"
      ]
     },
     "execution_count": 104,
     "metadata": {},
     "output_type": "execute_result"
    }
   ],
   "source": [
    "# Checking the size\n",
    "df.shape"
   ]
  },
  {
   "cell_type": "markdown",
   "id": "ad248c48",
   "metadata": {},
   "source": [
    "As observed, in this dataset, there are 891 rows and 12 variables."
   ]
  },
  {
   "cell_type": "markdown",
   "id": "16b8b62b",
   "metadata": {},
   "source": [
    "##### Next steps:\n",
    "\n",
    "- Check for duplicated data\n",
    "\n",
    "- Check for missing data\n",
    "\n",
    "- Check data types and formats"
   ]
  },
  {
   "cell_type": "markdown",
   "id": "a032e39c",
   "metadata": {},
   "source": [
    "**Step 1**\n",
    "\n",
    "- Check for duplicated data"
   ]
  },
  {
   "cell_type": "code",
   "execution_count": 105,
   "id": "173513ce",
   "metadata": {},
   "outputs": [
    {
     "data": {
      "text/plain": [
       "0"
      ]
     },
     "execution_count": 105,
     "metadata": {},
     "output_type": "execute_result"
    }
   ],
   "source": [
    "df.duplicated().sum()"
   ]
  },
  {
   "cell_type": "markdown",
   "id": "4f3cefde",
   "metadata": {},
   "source": [
    "The dataset has no duplicates."
   ]
  },
  {
   "cell_type": "markdown",
   "id": "ef3be08f",
   "metadata": {},
   "source": [
    "**Step 2**\n",
    "- Check for missing data"
   ]
  },
  {
   "cell_type": "code",
   "execution_count": 106,
   "id": "d9da692d",
   "metadata": {},
   "outputs": [
    {
     "name": "stdout",
     "output_type": "stream",
     "text": [
      "<class 'pandas.core.frame.DataFrame'>\n",
      "RangeIndex: 891 entries, 0 to 890\n",
      "Data columns (total 12 columns):\n",
      " #   Column           Non-Null Count  Dtype  \n",
      "---  ------           --------------  -----  \n",
      " 0   passenger_id     891 non-null    int64  \n",
      " 1   survived         891 non-null    int64  \n",
      " 2   passenger_class  891 non-null    int64  \n",
      " 3   name             891 non-null    object \n",
      " 4   sex              891 non-null    object \n",
      " 5   age              714 non-null    float64\n",
      " 6   sib_sp           891 non-null    int64  \n",
      " 7   parch            891 non-null    int64  \n",
      " 8   ticket           891 non-null    object \n",
      " 9   fare             891 non-null    float64\n",
      " 10  cabin            204 non-null    object \n",
      " 11  embarked         889 non-null    object \n",
      "dtypes: float64(2), int64(5), object(5)\n",
      "memory usage: 83.7+ KB\n"
     ]
    }
   ],
   "source": [
    "# Summary\n",
    "\n",
    "df.info()"
   ]
  },
  {
   "cell_type": "markdown",
   "id": "ba571a65",
   "metadata": {},
   "source": [
    "As we could see, there are missing values in the column `age`, `cabin` and `embarked`.\n",
    "\n",
    "I will check how many:"
   ]
  },
  {
   "cell_type": "code",
   "execution_count": 107,
   "id": "8d748bdf",
   "metadata": {},
   "outputs": [
    {
     "data": {
      "text/plain": [
       "passenger_id         0\n",
       "survived             0\n",
       "passenger_class      0\n",
       "name                 0\n",
       "sex                  0\n",
       "age                177\n",
       "sib_sp               0\n",
       "parch                0\n",
       "ticket               0\n",
       "fare                 0\n",
       "cabin              687\n",
       "embarked             2\n",
       "dtype: int64"
      ]
     },
     "execution_count": 107,
     "metadata": {},
     "output_type": "execute_result"
    }
   ],
   "source": [
    "df.isnull().sum()"
   ]
  },
  {
   "cell_type": "markdown",
   "id": "cc32a915",
   "metadata": {},
   "source": [
    "Summarizing:\n",
    "\n",
    "    - age -> 177 missing values\n",
    "    - cabin -> 687 missing values\n",
    "    - embarked -> 2 missing values"
   ]
  },
  {
   "cell_type": "code",
   "execution_count": 108,
   "id": "ee21d6af",
   "metadata": {},
   "outputs": [
    {
     "data": {
      "text/plain": [
       "passenger_id        0.000000\n",
       "survived            0.000000\n",
       "passenger_class     0.000000\n",
       "name                0.000000\n",
       "sex                 0.000000\n",
       "age                19.865320\n",
       "sib_sp              0.000000\n",
       "parch               0.000000\n",
       "ticket              0.000000\n",
       "fare                0.000000\n",
       "cabin              77.104377\n",
       "embarked            0.224467\n",
       "dtype: float64"
      ]
     },
     "execution_count": 108,
     "metadata": {},
     "output_type": "execute_result"
    }
   ],
   "source": [
    "# Checking the percentage of missing values\n",
    "\n",
    "df.isna().sum() / df.shape[0]*100.0"
   ]
  },
  {
   "cell_type": "markdown",
   "id": "01b77281",
   "metadata": {},
   "source": [
    "We can see that nearly 80% of data is missing in the `cabin` column. Other fields such as `age` and `embarked` have ~20% and 0.22% respectively. We may need to have to deal with these values.\n",
    "\n",
    "\n",
    "I will investigate and try to fix it after completing the `Step 3`."
   ]
  },
  {
   "cell_type": "markdown",
   "id": "3daf906f",
   "metadata": {},
   "source": [
    "**Step 3**\n",
    "- Data-types and formats"
   ]
  },
  {
   "cell_type": "code",
   "execution_count": 109,
   "id": "d9639cf5",
   "metadata": {},
   "outputs": [
    {
     "data": {
      "text/plain": [
       "passenger_id         int64\n",
       "survived             int64\n",
       "passenger_class      int64\n",
       "name                object\n",
       "sex                 object\n",
       "age                float64\n",
       "sib_sp               int64\n",
       "parch                int64\n",
       "ticket              object\n",
       "fare               float64\n",
       "cabin               object\n",
       "embarked            object\n",
       "dtype: object"
      ]
     },
     "execution_count": 109,
     "metadata": {},
     "output_type": "execute_result"
    }
   ],
   "source": [
    "# Check using .dtypes\n",
    "\n",
    "df.dtypes"
   ]
  },
  {
   "cell_type": "markdown",
   "id": "721edb36",
   "metadata": {},
   "source": [
    "Observing the above result, the data set is formed for a variety of both string and numeric data types for the different variables."
   ]
  },
  {
   "cell_type": "markdown",
   "id": "ac7e8053",
   "metadata": {},
   "source": [
    "Now that I have checked the dataset, I will start to fix some of the issues found previously."
   ]
  },
  {
   "cell_type": "markdown",
   "id": "bc8adf35",
   "metadata": {},
   "source": [
    "**Early assumptions**"
   ]
  },
  {
   "cell_type": "code",
   "execution_count": 110,
   "id": "038a60b6",
   "metadata": {},
   "outputs": [
    {
     "data": {
      "text/html": [
       "<div>\n",
       "<style scoped>\n",
       "    .dataframe tbody tr th:only-of-type {\n",
       "        vertical-align: middle;\n",
       "    }\n",
       "\n",
       "    .dataframe tbody tr th {\n",
       "        vertical-align: top;\n",
       "    }\n",
       "\n",
       "    .dataframe thead th {\n",
       "        text-align: right;\n",
       "    }\n",
       "</style>\n",
       "<table border=\"1\" class=\"dataframe\">\n",
       "  <thead>\n",
       "    <tr style=\"text-align: right;\">\n",
       "      <th></th>\n",
       "      <th>passenger_id</th>\n",
       "      <th>survived</th>\n",
       "      <th>passenger_class</th>\n",
       "      <th>name</th>\n",
       "      <th>sex</th>\n",
       "      <th>age</th>\n",
       "      <th>sib_sp</th>\n",
       "      <th>parch</th>\n",
       "      <th>ticket</th>\n",
       "      <th>fare</th>\n",
       "      <th>cabin</th>\n",
       "      <th>embarked</th>\n",
       "    </tr>\n",
       "  </thead>\n",
       "  <tbody>\n",
       "    <tr>\n",
       "      <th>0</th>\n",
       "      <td>1</td>\n",
       "      <td>0</td>\n",
       "      <td>3</td>\n",
       "      <td>Braund, Mr. Owen Harris</td>\n",
       "      <td>male</td>\n",
       "      <td>22.0</td>\n",
       "      <td>1</td>\n",
       "      <td>0</td>\n",
       "      <td>A/5 21171</td>\n",
       "      <td>7.2500</td>\n",
       "      <td>NaN</td>\n",
       "      <td>S</td>\n",
       "    </tr>\n",
       "    <tr>\n",
       "      <th>1</th>\n",
       "      <td>2</td>\n",
       "      <td>1</td>\n",
       "      <td>1</td>\n",
       "      <td>Cumings, Mrs. John Bradley (Florence Briggs Th...</td>\n",
       "      <td>female</td>\n",
       "      <td>38.0</td>\n",
       "      <td>1</td>\n",
       "      <td>0</td>\n",
       "      <td>PC 17599</td>\n",
       "      <td>71.2833</td>\n",
       "      <td>C85</td>\n",
       "      <td>C</td>\n",
       "    </tr>\n",
       "    <tr>\n",
       "      <th>2</th>\n",
       "      <td>3</td>\n",
       "      <td>1</td>\n",
       "      <td>3</td>\n",
       "      <td>Heikkinen, Miss. Laina</td>\n",
       "      <td>female</td>\n",
       "      <td>26.0</td>\n",
       "      <td>0</td>\n",
       "      <td>0</td>\n",
       "      <td>STON/O2. 3101282</td>\n",
       "      <td>7.9250</td>\n",
       "      <td>NaN</td>\n",
       "      <td>S</td>\n",
       "    </tr>\n",
       "    <tr>\n",
       "      <th>3</th>\n",
       "      <td>4</td>\n",
       "      <td>1</td>\n",
       "      <td>1</td>\n",
       "      <td>Futrelle, Mrs. Jacques Heath (Lily May Peel)</td>\n",
       "      <td>female</td>\n",
       "      <td>35.0</td>\n",
       "      <td>1</td>\n",
       "      <td>0</td>\n",
       "      <td>113803</td>\n",
       "      <td>53.1000</td>\n",
       "      <td>C123</td>\n",
       "      <td>S</td>\n",
       "    </tr>\n",
       "    <tr>\n",
       "      <th>4</th>\n",
       "      <td>5</td>\n",
       "      <td>0</td>\n",
       "      <td>3</td>\n",
       "      <td>Allen, Mr. William Henry</td>\n",
       "      <td>male</td>\n",
       "      <td>35.0</td>\n",
       "      <td>0</td>\n",
       "      <td>0</td>\n",
       "      <td>373450</td>\n",
       "      <td>8.0500</td>\n",
       "      <td>NaN</td>\n",
       "      <td>S</td>\n",
       "    </tr>\n",
       "  </tbody>\n",
       "</table>\n",
       "</div>"
      ],
      "text/plain": [
       "   passenger_id  survived  passenger_class  \\\n",
       "0             1         0                3   \n",
       "1             2         1                1   \n",
       "2             3         1                3   \n",
       "3             4         1                1   \n",
       "4             5         0                3   \n",
       "\n",
       "                                                name     sex   age  sib_sp  \\\n",
       "0                            Braund, Mr. Owen Harris    male  22.0       1   \n",
       "1  Cumings, Mrs. John Bradley (Florence Briggs Th...  female  38.0       1   \n",
       "2                             Heikkinen, Miss. Laina  female  26.0       0   \n",
       "3       Futrelle, Mrs. Jacques Heath (Lily May Peel)  female  35.0       1   \n",
       "4                           Allen, Mr. William Henry    male  35.0       0   \n",
       "\n",
       "   parch            ticket     fare cabin embarked  \n",
       "0      0         A/5 21171   7.2500   NaN        S  \n",
       "1      0          PC 17599  71.2833   C85        C  \n",
       "2      0  STON/O2. 3101282   7.9250   NaN        S  \n",
       "3      0            113803  53.1000  C123        S  \n",
       "4      0            373450   8.0500   NaN        S  "
      ]
     },
     "execution_count": 110,
     "metadata": {},
     "output_type": "execute_result"
    }
   ],
   "source": [
    "df.head()"
   ]
  },
  {
   "cell_type": "markdown",
   "id": "ff484617",
   "metadata": {},
   "source": [
    "Considerations:\n",
    "\n",
    "- `passenger_id` and `name` should not give us any helpful information about the objective of this work. Therefore, I will drop both columns.\n",
    "\n",
    "\n",
    "\n",
    "- As a result of the above code, we observed the existence of missing values in the columns `age`, `cabin`, and `embarked`. The `cabin` column missing values are probably related to some of the passengers do not have a cabin. Therefore, I will input the information manually. However, the columns `age` and `embarked` missing values are probably just missing data.\n",
    "\n",
    "\n",
    "\n",
    "- As we could observe previously, there is a mixing of categorical and numerical columns in our dataset. I need to check which categorical column I am able to turn into a numerical column."
   ]
  },
  {
   "cell_type": "markdown",
   "id": "1259523f",
   "metadata": {},
   "source": [
    "*First I will execute the code to drop the `passenger_id` and `name` columns.*"
   ]
  },
  {
   "cell_type": "code",
   "execution_count": 111,
   "id": "5ed2dc76",
   "metadata": {},
   "outputs": [],
   "source": [
    "df.drop('passenger_id', axis=1, inplace=True)\n",
    "df.drop('name', axis=1, inplace=True)"
   ]
  },
  {
   "cell_type": "code",
   "execution_count": 112,
   "id": "142b9902",
   "metadata": {},
   "outputs": [
    {
     "data": {
      "text/html": [
       "<div>\n",
       "<style scoped>\n",
       "    .dataframe tbody tr th:only-of-type {\n",
       "        vertical-align: middle;\n",
       "    }\n",
       "\n",
       "    .dataframe tbody tr th {\n",
       "        vertical-align: top;\n",
       "    }\n",
       "\n",
       "    .dataframe thead th {\n",
       "        text-align: right;\n",
       "    }\n",
       "</style>\n",
       "<table border=\"1\" class=\"dataframe\">\n",
       "  <thead>\n",
       "    <tr style=\"text-align: right;\">\n",
       "      <th></th>\n",
       "      <th>survived</th>\n",
       "      <th>passenger_class</th>\n",
       "      <th>sex</th>\n",
       "      <th>age</th>\n",
       "      <th>sib_sp</th>\n",
       "      <th>parch</th>\n",
       "      <th>ticket</th>\n",
       "      <th>fare</th>\n",
       "      <th>cabin</th>\n",
       "      <th>embarked</th>\n",
       "    </tr>\n",
       "  </thead>\n",
       "  <tbody>\n",
       "    <tr>\n",
       "      <th>0</th>\n",
       "      <td>0</td>\n",
       "      <td>3</td>\n",
       "      <td>male</td>\n",
       "      <td>22.0</td>\n",
       "      <td>1</td>\n",
       "      <td>0</td>\n",
       "      <td>A/5 21171</td>\n",
       "      <td>7.2500</td>\n",
       "      <td>NaN</td>\n",
       "      <td>S</td>\n",
       "    </tr>\n",
       "    <tr>\n",
       "      <th>1</th>\n",
       "      <td>1</td>\n",
       "      <td>1</td>\n",
       "      <td>female</td>\n",
       "      <td>38.0</td>\n",
       "      <td>1</td>\n",
       "      <td>0</td>\n",
       "      <td>PC 17599</td>\n",
       "      <td>71.2833</td>\n",
       "      <td>C85</td>\n",
       "      <td>C</td>\n",
       "    </tr>\n",
       "  </tbody>\n",
       "</table>\n",
       "</div>"
      ],
      "text/plain": [
       "   survived  passenger_class     sex   age  sib_sp  parch     ticket     fare  \\\n",
       "0         0                3    male  22.0       1      0  A/5 21171   7.2500   \n",
       "1         1                1  female  38.0       1      0   PC 17599  71.2833   \n",
       "\n",
       "  cabin embarked  \n",
       "0   NaN        S  \n",
       "1   C85        C  "
      ]
     },
     "execution_count": 112,
     "metadata": {},
     "output_type": "execute_result"
    }
   ],
   "source": [
    "# Checking if it worked\n",
    "\n",
    "df.head(2)"
   ]
  },
  {
   "cell_type": "markdown",
   "id": "dfd8e75d",
   "metadata": {},
   "source": [
    "*Next, I will transform the `sex` column into numerical by converting into a binary in the following way:\n",
    "\n",
    "*Female - 0*\n",
    "\n",
    "*Male - 1*"
   ]
  },
  {
   "cell_type": "code",
   "execution_count": 113,
   "id": "7fb5dfe5",
   "metadata": {
    "scrolled": true
   },
   "outputs": [],
   "source": [
    "df['sex'] = np.where(df['sex']=='female', 0, 1)"
   ]
  },
  {
   "cell_type": "code",
   "execution_count": 114,
   "id": "4e609330",
   "metadata": {
    "scrolled": true
   },
   "outputs": [
    {
     "data": {
      "text/html": [
       "<div>\n",
       "<style scoped>\n",
       "    .dataframe tbody tr th:only-of-type {\n",
       "        vertical-align: middle;\n",
       "    }\n",
       "\n",
       "    .dataframe tbody tr th {\n",
       "        vertical-align: top;\n",
       "    }\n",
       "\n",
       "    .dataframe thead th {\n",
       "        text-align: right;\n",
       "    }\n",
       "</style>\n",
       "<table border=\"1\" class=\"dataframe\">\n",
       "  <thead>\n",
       "    <tr style=\"text-align: right;\">\n",
       "      <th></th>\n",
       "      <th>survived</th>\n",
       "      <th>passenger_class</th>\n",
       "      <th>sex</th>\n",
       "      <th>age</th>\n",
       "      <th>sib_sp</th>\n",
       "      <th>parch</th>\n",
       "      <th>ticket</th>\n",
       "      <th>fare</th>\n",
       "      <th>cabin</th>\n",
       "      <th>embarked</th>\n",
       "    </tr>\n",
       "  </thead>\n",
       "  <tbody>\n",
       "    <tr>\n",
       "      <th>0</th>\n",
       "      <td>0</td>\n",
       "      <td>3</td>\n",
       "      <td>1</td>\n",
       "      <td>22.0</td>\n",
       "      <td>1</td>\n",
       "      <td>0</td>\n",
       "      <td>A/5 21171</td>\n",
       "      <td>7.2500</td>\n",
       "      <td>NaN</td>\n",
       "      <td>S</td>\n",
       "    </tr>\n",
       "    <tr>\n",
       "      <th>1</th>\n",
       "      <td>1</td>\n",
       "      <td>1</td>\n",
       "      <td>0</td>\n",
       "      <td>38.0</td>\n",
       "      <td>1</td>\n",
       "      <td>0</td>\n",
       "      <td>PC 17599</td>\n",
       "      <td>71.2833</td>\n",
       "      <td>C85</td>\n",
       "      <td>C</td>\n",
       "    </tr>\n",
       "  </tbody>\n",
       "</table>\n",
       "</div>"
      ],
      "text/plain": [
       "   survived  passenger_class  sex   age  sib_sp  parch     ticket     fare  \\\n",
       "0         0                3    1  22.0       1      0  A/5 21171   7.2500   \n",
       "1         1                1    0  38.0       1      0   PC 17599  71.2833   \n",
       "\n",
       "  cabin embarked  \n",
       "0   NaN        S  \n",
       "1   C85        C  "
      ]
     },
     "execution_count": 114,
     "metadata": {},
     "output_type": "execute_result"
    }
   ],
   "source": [
    "# Checking if it worked\n",
    "\n",
    "df.head(2)"
   ]
  },
  {
   "cell_type": "markdown",
   "id": "0192ce45",
   "metadata": {},
   "source": [
    "**Now I will investigate the `age` column to fix the NaN issue.**"
   ]
  },
  {
   "cell_type": "markdown",
   "id": "611331cf",
   "metadata": {},
   "source": [
    "**Age**\n",
    "\n",
    "It appears about 20% of data is missing in the `age` column. Let us now investigate the distribution of age in the data in order to be able to move forward. We can agree that 20% of the data is too much to drop in this case."
   ]
  },
  {
   "cell_type": "code",
   "execution_count": 115,
   "id": "4d73c9d8",
   "metadata": {},
   "outputs": [
    {
     "data": {
      "text/plain": [
       "count    714.000000\n",
       "mean      29.699118\n",
       "std       14.526497\n",
       "min        0.420000\n",
       "25%       20.125000\n",
       "50%       28.000000\n",
       "75%       38.000000\n",
       "max       80.000000\n",
       "Name: age, dtype: float64"
      ]
     },
     "execution_count": 115,
     "metadata": {},
     "output_type": "execute_result"
    }
   ],
   "source": [
    "df['age'].describe()"
   ]
  },
  {
   "cell_type": "code",
   "execution_count": 116,
   "id": "7f718c6a",
   "metadata": {},
   "outputs": [
    {
     "data": {
      "text/plain": [
       "28.0"
      ]
     },
     "execution_count": 116,
     "metadata": {},
     "output_type": "execute_result"
    }
   ],
   "source": [
    "df['age'].median()"
   ]
  },
  {
   "cell_type": "code",
   "execution_count": 117,
   "id": "f07d0e84",
   "metadata": {},
   "outputs": [
    {
     "data": {
      "image/png": "[encoded data removed]",
      "text/plain": [
       "<Figure size 640x480 with 1 Axes>"
      ]
     },
     "metadata": {},
     "output_type": "display_data"
    }
   ],
   "source": [
    "# Visualize\n",
    "plt.figure()\n",
    "\n",
    "plt.hist(df['age'], bins=25)\n",
    "\n",
    "# Overplot mean and median ages\n",
    "plt.axvline(df['age'].median(), color='cornflowerblue', label='median')\n",
    "plt.axvline(df['age'].mean(), color='goldenrod', label='mean')\n",
    "\n",
    "plt.title('Distribution of Passengers Age')\n",
    "plt.xlabel('Age in years')\n",
    "plt.ylabel('Count of passengers')\n",
    "plt.legend()\n",
    "\n",
    "plt.show()"
   ]
  },
  {
   "cell_type": "markdown",
   "id": "6b1b66bc",
   "metadata": {},
   "source": [
    "Looking at the above, we could see that the distribution of ages appears somewhat normalish with right skew. Most of the passengers lie in the range between ~15-30 years of age. Very few passengers are 50 years old or above. As we could observe a steep rise between ages ~12-15 and very few passengers 65+.\n",
    "\n",
    "Most passengers appear to be in the bin of ~28 years old."
   ]
  },
  {
   "cell_type": "code",
   "execution_count": 118,
   "id": "9efd2e49",
   "metadata": {},
   "outputs": [
    {
     "data": {
      "text/plain": [
       "24.00    30\n",
       "22.00    27\n",
       "18.00    26\n",
       "19.00    25\n",
       "28.00    25\n",
       "         ..\n",
       "36.50     1\n",
       "55.50     1\n",
       "0.92      1\n",
       "23.50     1\n",
       "74.00     1\n",
       "Name: age, Length: 88, dtype: int64"
      ]
     },
     "execution_count": 118,
     "metadata": {},
     "output_type": "execute_result"
    }
   ],
   "source": [
    "df['age'].value_counts()"
   ]
  },
  {
   "cell_type": "markdown",
   "id": "ffa4017b",
   "metadata": {},
   "source": [
    "However the median is 28 years old, since the age with most passengers is 24 years old, I will input the missing ages as age 24."
   ]
  },
  {
   "cell_type": "code",
   "execution_count": 119,
   "id": "7dc7f261",
   "metadata": {},
   "outputs": [],
   "source": [
    "df['age'] = df['age'].fillna(24.0)"
   ]
  },
  {
   "cell_type": "code",
   "execution_count": 120,
   "id": "616b862f",
   "metadata": {},
   "outputs": [
    {
     "data": {
      "text/plain": [
       "0"
      ]
     },
     "execution_count": 120,
     "metadata": {},
     "output_type": "execute_result"
    }
   ],
   "source": [
    "# Check\n",
    "\n",
    "df['age'].isna().sum()"
   ]
  },
  {
   "cell_type": "code",
   "execution_count": 121,
   "id": "acf1b4f0",
   "metadata": {},
   "outputs": [
    {
     "data": {
      "image/png": "[encoded data removed]",
      "text/plain": [
       "<Figure size 640x480 with 1 Axes>"
      ]
     },
     "metadata": {},
     "output_type": "display_data"
    }
   ],
   "source": [
    "# Visualize\n",
    "plt.figure()\n",
    "\n",
    "plt.hist(df['age'], bins=25)\n",
    "\n",
    "# Overplot mean and median ages\n",
    "plt.axvline(df['age'].median(), color='cornflowerblue', label='median')\n",
    "plt.axvline(df['age'].mean(), color='goldenrod', label='mean')\n",
    "\n",
    "plt.title('Distribution of Passengers Age')\n",
    "plt.xlabel('Age in years')\n",
    "plt.ylabel('Count of passengers')\n",
    "plt.legend()\n",
    "\n",
    "plt.show()"
   ]
  },
  {
   "cell_type": "markdown",
   "id": "d5bf348d",
   "metadata": {},
   "source": [
    "Age is done. What else is missing?"
   ]
  },
  {
   "cell_type": "code",
   "execution_count": 122,
   "id": "ae9d9955",
   "metadata": {},
   "outputs": [
    {
     "data": {
      "text/plain": [
       "survived             0\n",
       "passenger_class      0\n",
       "sex                  0\n",
       "age                  0\n",
       "sib_sp               0\n",
       "parch                0\n",
       "ticket               0\n",
       "fare                 0\n",
       "cabin              687\n",
       "embarked             2\n",
       "dtype: int64"
      ]
     },
     "execution_count": 122,
     "metadata": {},
     "output_type": "execute_result"
    }
   ],
   "source": [
    "df.isna().sum()"
   ]
  },
  {
   "cell_type": "markdown",
   "id": "158ab08a",
   "metadata": {},
   "source": [
    "Now we must address imputing values for *categorical* data such as `cabin`and `embarked`.\n",
    "\n",
    "**Cabin column - categorical**\n",
    "\n",
    "First, let us look at all the distinct values for the `cabin` column."
   ]
  },
  {
   "cell_type": "code",
   "execution_count": 123,
   "id": "062bbacf",
   "metadata": {},
   "outputs": [
    {
     "data": {
      "image/png": "[encoded data removed]",
      "text/plain": [
       "<Figure size 640x480 with 1 Axes>"
      ]
     },
     "metadata": {},
     "output_type": "display_data"
    }
   ],
   "source": [
    "df['cabin'].value_counts().sort_values().plot(kind='barh', color='cornflowerblue')\n",
    "plt.title('Count of Passengers by Cabin')\n",
    "plt.ylabel('Cabin type')\n",
    "plt.xlabel('Count of Passengers')\n",
    "plt.show()"
   ]
  },
  {
   "cell_type": "markdown",
   "id": "41613d18",
   "metadata": {},
   "source": [
    "Evidently, there are a lot of distinct cabins! Let's make this visual a bit taller."
   ]
  },
  {
   "cell_type": "code",
   "execution_count": 124,
   "id": "33454680",
   "metadata": {},
   "outputs": [
    {
     "data": {
      "image/png": "[encoded data removed]",
      "text/plain": [
       "<Figure size 1000x4000 with 1 Axes>"
      ]
     },
     "metadata": {},
     "output_type": "display_data"
    }
   ],
   "source": [
    "plt.figure(figsize=(10, 40))\n",
    "df['cabin'].value_counts().sort_values().plot(kind='barh', color='cornflowerblue')\n",
    "plt.title('Count of Passengers by Cabin')\n",
    "plt.ylabel('Cabin type')\n",
    "plt.xlabel('Count of Passengers')\n",
    "plt.show()"
   ]
  },
  {
   "cell_type": "code",
   "execution_count": 125,
   "id": "12c1d555",
   "metadata": {
    "scrolled": true
   },
   "outputs": [
    {
     "data": {
      "text/plain": [
       "B96 B98        1.960784\n",
       "G6             1.960784\n",
       "C23 C25 C27    1.960784\n",
       "C22 C26        1.470588\n",
       "F33            1.470588\n",
       "                 ...   \n",
       "E34            0.490196\n",
       "C7             0.490196\n",
       "C54            0.490196\n",
       "E36            0.490196\n",
       "C148           0.490196\n",
       "Name: cabin, Length: 147, dtype: float64"
      ]
     },
     "execution_count": 125,
     "metadata": {},
     "output_type": "execute_result"
    }
   ],
   "source": [
    "df['cabin'].value_counts(normalize=True)*100.0"
   ]
  },
  {
   "cell_type": "markdown",
   "id": "ac748f8c",
   "metadata": {},
   "source": [
    "By looking at the graphic we could not conclude much. On the other hand, by observing the above, it is possible to conclude that the majority of passengers are in the `B96`, `B98`, `G6`, `C23`, `C25` and `C27`. A small number is in the cabins `E34`, `C7`, `C54`, `E36` and `C148`.\n",
    "\n",
    "However, one of our assumptions was that the missing data from the `cabin` column might be that the passengers did not have a cabin. We will use `unknown` for the input."
   ]
  },
  {
   "cell_type": "code",
   "execution_count": 126,
   "id": "25168beb",
   "metadata": {},
   "outputs": [],
   "source": [
    "# Set missing values as unknown\n",
    "\n",
    "df['cabin'] = df['cabin'].fillna('unknown')"
   ]
  },
  {
   "cell_type": "code",
   "execution_count": 127,
   "id": "732a8bf4",
   "metadata": {},
   "outputs": [
    {
     "data": {
      "text/plain": [
       "0"
      ]
     },
     "execution_count": 127,
     "metadata": {},
     "output_type": "execute_result"
    }
   ],
   "source": [
    "# Check\n",
    "df['cabin'].isna().sum()"
   ]
  },
  {
   "cell_type": "markdown",
   "id": "c0104e64",
   "metadata": {},
   "source": [
    "**Embarked column - categorical**"
   ]
  },
  {
   "cell_type": "markdown",
   "id": "255e464a",
   "metadata": {},
   "source": [
    "Let's take a look at the distinct counts for the embarked column:"
   ]
  },
  {
   "cell_type": "code",
   "execution_count": 128,
   "id": "8f314fb4",
   "metadata": {},
   "outputs": [
    {
     "data": {
      "text/plain": [
       "S    0.724409\n",
       "C    0.188976\n",
       "Q    0.086614\n",
       "Name: embarked, dtype: float64"
      ]
     },
     "execution_count": 128,
     "metadata": {},
     "output_type": "execute_result"
    }
   ],
   "source": [
    "df['embarked'].value_counts(normalize=True)"
   ]
  },
  {
   "cell_type": "code",
   "execution_count": 129,
   "id": "aa4140cd",
   "metadata": {},
   "outputs": [
    {
     "data": {
      "image/png": "[encoded data removed]",
      "text/plain": [
       "<Figure size 640x480 with 1 Axes>"
      ]
     },
     "metadata": {},
     "output_type": "display_data"
    }
   ],
   "source": [
    "df['embarked'].value_counts().sort_values().plot(kind='barh', color='cornflowerblue')\n",
    "plt.title('Count of Passengers by Place Embarked')\n",
    "plt.ylabel('Place Embarked')\n",
    "plt.xlabel('Count of Passengers')\n",
    "plt.show()"
   ]
  },
  {
   "cell_type": "markdown",
   "id": "2d47ed78",
   "metadata": {},
   "source": [
    "Looking at the above, a great deal of passengers embarked by `S` (~73%). On the other hand, less than 10% of the passengers embarked by `Q`.\n",
    "\n",
    "In order to fix the NaN issue, since there are only two missing values, I will fill in the missing data as `C`."
   ]
  },
  {
   "cell_type": "code",
   "execution_count": 130,
   "id": "bfd9992a",
   "metadata": {},
   "outputs": [],
   "source": [
    "# Set missing values to unknown\n",
    "df['embarked'] = df['embarked'].fillna('C')"
   ]
  },
  {
   "cell_type": "code",
   "execution_count": 131,
   "id": "6dba432b",
   "metadata": {},
   "outputs": [
    {
     "data": {
      "text/plain": [
       "0"
      ]
     },
     "execution_count": 131,
     "metadata": {},
     "output_type": "execute_result"
    }
   ],
   "source": [
    "# Check\n",
    "df['embarked'].isna().sum()"
   ]
  },
  {
   "cell_type": "code",
   "execution_count": 132,
   "id": "c9cf889f",
   "metadata": {},
   "outputs": [
    {
     "data": {
      "image/png": "[encoded data removed]",
      "text/plain": [
       "<Figure size 640x480 with 1 Axes>"
      ]
     },
     "metadata": {},
     "output_type": "display_data"
    }
   ],
   "source": [
    "df['embarked'].value_counts().sort_values().plot(kind='barh', color='cornflowerblue')\n",
    "plt.title('Count of Passengers by Place Embarked')\n",
    "plt.ylabel('Place Embarked')\n",
    "plt.xlabel('Count of Passengers')\n",
    "plt.show()"
   ]
  },
  {
   "cell_type": "code",
   "execution_count": 133,
   "id": "81a425db",
   "metadata": {},
   "outputs": [
    {
     "data": {
      "text/plain": [
       "S    0.722783\n",
       "C    0.190797\n",
       "Q    0.086420\n",
       "Name: embarked, dtype: float64"
      ]
     },
     "execution_count": 133,
     "metadata": {},
     "output_type": "execute_result"
    }
   ],
   "source": [
    "df['embarked'].value_counts(normalize=True)"
   ]
  },
  {
   "cell_type": "code",
   "execution_count": 134,
   "id": "7a1c4f2f",
   "metadata": {},
   "outputs": [
    {
     "data": {
      "text/plain": [
       "survived           0\n",
       "passenger_class    0\n",
       "sex                0\n",
       "age                0\n",
       "sib_sp             0\n",
       "parch              0\n",
       "ticket             0\n",
       "fare               0\n",
       "cabin              0\n",
       "embarked           0\n",
       "dtype: int64"
      ]
     },
     "execution_count": 134,
     "metadata": {},
     "output_type": "execute_result"
    }
   ],
   "source": [
    "df.isna().sum()"
   ]
  },
  {
   "cell_type": "markdown",
   "id": "caae4115",
   "metadata": {},
   "source": [
    "There are no more missing values, we have imputed all missing values. We can now proceed to a more detailed exploratory data analysis given this. We can also proceed forward at a later point confidently with modeling work, as there are no missing values."
   ]
  },
  {
   "cell_type": "markdown",
   "id": "b656b9ed",
   "metadata": {},
   "source": [
    "*****\n",
    "## Exploratory Data Analysis - EDA"
   ]
  },
  {
   "cell_type": "markdown",
   "id": "10600b31",
   "metadata": {},
   "source": [
    "Now that we've cleaned the data, let's do some analysis to address our original question: \" Could we predict survivors of the tragic sinking of the Titanic based on passenger information such as age, sex and socio-economic status?\"\n",
    "\n",
    "\n",
    "We will divide our data into categorical and numeric and proceed in this way, but first I will check the unique values for each column."
   ]
  },
  {
   "cell_type": "markdown",
   "id": "9d30140c",
   "metadata": {},
   "source": [
    "**I will start the EDA by checking the unique values for each column**"
   ]
  },
  {
   "cell_type": "markdown",
   "id": "a4e9725c",
   "metadata": {},
   "source": [
    "**Summary of the unique values for each column:**"
   ]
  },
  {
   "cell_type": "code",
   "execution_count": 135,
   "id": "28e7bfaa",
   "metadata": {
    "scrolled": false
   },
   "outputs": [
    {
     "data": {
      "text/plain": [
       "survived             2\n",
       "passenger_class      3\n",
       "sex                  2\n",
       "age                 88\n",
       "sib_sp               7\n",
       "parch                7\n",
       "ticket             681\n",
       "fare               248\n",
       "cabin              148\n",
       "embarked             3\n",
       "dtype: int64"
      ]
     },
     "execution_count": 135,
     "metadata": {},
     "output_type": "execute_result"
    }
   ],
   "source": [
    "df.nunique()"
   ]
  },
  {
   "cell_type": "markdown",
   "id": "1d1a64fc",
   "metadata": {},
   "source": [
    "Now, I will check which column individually:"
   ]
  },
  {
   "cell_type": "code",
   "execution_count": 136,
   "id": "fbea5458",
   "metadata": {},
   "outputs": [
    {
     "data": {
      "text/plain": [
       "<bound method Series.unique of 0      0\n",
       "1      1\n",
       "2      1\n",
       "3      1\n",
       "4      0\n",
       "      ..\n",
       "886    0\n",
       "887    1\n",
       "888    0\n",
       "889    1\n",
       "890    0\n",
       "Name: survived, Length: 891, dtype: int64>"
      ]
     },
     "execution_count": 136,
     "metadata": {},
     "output_type": "execute_result"
    }
   ],
   "source": [
    "df['survived'].unique"
   ]
  },
  {
   "cell_type": "code",
   "execution_count": 137,
   "id": "53da0d9a",
   "metadata": {},
   "outputs": [
    {
     "data": {
      "text/plain": [
       "2"
      ]
     },
     "execution_count": 137,
     "metadata": {},
     "output_type": "execute_result"
    }
   ],
   "source": [
    "df['survived'].nunique()"
   ]
  },
  {
   "cell_type": "markdown",
   "id": "5c9af29f",
   "metadata": {},
   "source": [
    "As we could see, there are only two unique values in the `suvived` column. Where `1` is when the passenger survived and `0` otherwise."
   ]
  },
  {
   "cell_type": "code",
   "execution_count": 138,
   "id": "5e6c8236",
   "metadata": {},
   "outputs": [
    {
     "data": {
      "text/plain": [
       "<bound method Series.unique of 0      3\n",
       "1      1\n",
       "2      3\n",
       "3      1\n",
       "4      3\n",
       "      ..\n",
       "886    2\n",
       "887    1\n",
       "888    3\n",
       "889    1\n",
       "890    3\n",
       "Name: passenger_class, Length: 891, dtype: int64>"
      ]
     },
     "execution_count": 138,
     "metadata": {},
     "output_type": "execute_result"
    }
   ],
   "source": [
    "df['passenger_class'].unique"
   ]
  },
  {
   "cell_type": "code",
   "execution_count": 139,
   "id": "980a2adf",
   "metadata": {},
   "outputs": [
    {
     "data": {
      "text/plain": [
       "3"
      ]
     },
     "execution_count": 139,
     "metadata": {},
     "output_type": "execute_result"
    }
   ],
   "source": [
    "df['passenger_class'].nunique()"
   ]
  },
  {
   "cell_type": "markdown",
   "id": "ae03ec8f",
   "metadata": {},
   "source": [
    "There are three classes: `1`, `2` and `3`. As explained before: `1= Upped Deck`, `2= Middle Deck` and `3= Lower Deck`."
   ]
  },
  {
   "cell_type": "code",
   "execution_count": 140,
   "id": "f05d71de",
   "metadata": {},
   "outputs": [
    {
     "data": {
      "text/plain": [
       "<bound method Series.unique of 0      1\n",
       "1      0\n",
       "2      0\n",
       "3      0\n",
       "4      1\n",
       "      ..\n",
       "886    1\n",
       "887    0\n",
       "888    0\n",
       "889    1\n",
       "890    1\n",
       "Name: sex, Length: 891, dtype: int32>"
      ]
     },
     "execution_count": 140,
     "metadata": {},
     "output_type": "execute_result"
    }
   ],
   "source": [
    "df['sex'].unique"
   ]
  },
  {
   "cell_type": "code",
   "execution_count": 141,
   "id": "4e18bb77",
   "metadata": {},
   "outputs": [
    {
     "data": {
      "text/plain": [
       "2"
      ]
     },
     "execution_count": 141,
     "metadata": {},
     "output_type": "execute_result"
    }
   ],
   "source": [
    "df['sex'].nunique()"
   ]
  },
  {
   "cell_type": "markdown",
   "id": "63741e2f",
   "metadata": {},
   "source": [
    "As we could see, as the result of the transformation into binary, there are only two unique values in the `sex` column. Where `female = 1` and `male = 0`."
   ]
  },
  {
   "cell_type": "code",
   "execution_count": 142,
   "id": "1f8d6f77",
   "metadata": {},
   "outputs": [
    {
     "data": {
      "text/plain": [
       "<bound method Series.unique of 0      22.0\n",
       "1      38.0\n",
       "2      26.0\n",
       "3      35.0\n",
       "4      35.0\n",
       "       ... \n",
       "886    27.0\n",
       "887    19.0\n",
       "888    24.0\n",
       "889    26.0\n",
       "890    32.0\n",
       "Name: age, Length: 891, dtype: float64>"
      ]
     },
     "execution_count": 142,
     "metadata": {},
     "output_type": "execute_result"
    }
   ],
   "source": [
    "df['age'].unique"
   ]
  },
  {
   "cell_type": "code",
   "execution_count": 143,
   "id": "1139957c",
   "metadata": {},
   "outputs": [
    {
     "data": {
      "text/plain": [
       "88"
      ]
     },
     "execution_count": 143,
     "metadata": {},
     "output_type": "execute_result"
    }
   ],
   "source": [
    "df['age'].nunique()"
   ]
  },
  {
   "cell_type": "markdown",
   "id": "631bb8d0",
   "metadata": {},
   "source": [
    "There are 88 unique values for the `age` column."
   ]
  },
  {
   "cell_type": "code",
   "execution_count": 144,
   "id": "9742076a",
   "metadata": {},
   "outputs": [
    {
     "data": {
      "text/plain": [
       "<bound method Series.unique of 0      1\n",
       "1      1\n",
       "2      0\n",
       "3      1\n",
       "4      0\n",
       "      ..\n",
       "886    0\n",
       "887    0\n",
       "888    1\n",
       "889    0\n",
       "890    0\n",
       "Name: sib_sp, Length: 891, dtype: int64>"
      ]
     },
     "execution_count": 144,
     "metadata": {},
     "output_type": "execute_result"
    }
   ],
   "source": [
    "df['sib_sp'].unique"
   ]
  },
  {
   "cell_type": "code",
   "execution_count": 145,
   "id": "19b2e835",
   "metadata": {},
   "outputs": [
    {
     "data": {
      "text/plain": [
       "7"
      ]
     },
     "execution_count": 145,
     "metadata": {},
     "output_type": "execute_result"
    }
   ],
   "source": [
    "df['sib_sp'].nunique()"
   ]
  },
  {
   "cell_type": "markdown",
   "id": "e04f55f6",
   "metadata": {},
   "source": [
    "As we could observe from above, there are 7 different values in the `sib_sp` column."
   ]
  },
  {
   "cell_type": "code",
   "execution_count": 146,
   "id": "130b817f",
   "metadata": {},
   "outputs": [
    {
     "data": {
      "text/plain": [
       "<bound method Series.unique of 0      0\n",
       "1      0\n",
       "2      0\n",
       "3      0\n",
       "4      0\n",
       "      ..\n",
       "886    0\n",
       "887    0\n",
       "888    2\n",
       "889    0\n",
       "890    0\n",
       "Name: parch, Length: 891, dtype: int64>"
      ]
     },
     "execution_count": 146,
     "metadata": {},
     "output_type": "execute_result"
    }
   ],
   "source": [
    "df['parch'].unique"
   ]
  },
  {
   "cell_type": "code",
   "execution_count": 147,
   "id": "7e204632",
   "metadata": {},
   "outputs": [
    {
     "data": {
      "text/plain": [
       "7"
      ]
     },
     "execution_count": 147,
     "metadata": {},
     "output_type": "execute_result"
    }
   ],
   "source": [
    "df['parch'].nunique()"
   ]
  },
  {
   "cell_type": "markdown",
   "id": "9efe1926",
   "metadata": {},
   "source": [
    "As we could observe from above, there are 7 different values in the `parch` column."
   ]
  },
  {
   "cell_type": "code",
   "execution_count": 148,
   "id": "3452e22d",
   "metadata": {},
   "outputs": [
    {
     "data": {
      "text/plain": [
       "<bound method Series.unique of 0             A/5 21171\n",
       "1              PC 17599\n",
       "2      STON/O2. 3101282\n",
       "3                113803\n",
       "4                373450\n",
       "             ...       \n",
       "886              211536\n",
       "887              112053\n",
       "888          W./C. 6607\n",
       "889              111369\n",
       "890              370376\n",
       "Name: ticket, Length: 891, dtype: object>"
      ]
     },
     "execution_count": 148,
     "metadata": {},
     "output_type": "execute_result"
    }
   ],
   "source": [
    "df['ticket'].unique"
   ]
  },
  {
   "cell_type": "code",
   "execution_count": 149,
   "id": "c7738356",
   "metadata": {},
   "outputs": [
    {
     "data": {
      "text/plain": [
       "681"
      ]
     },
     "execution_count": 149,
     "metadata": {},
     "output_type": "execute_result"
    }
   ],
   "source": [
    "df['ticket'].nunique()"
   ]
  },
  {
   "cell_type": "markdown",
   "id": "9b29ff36",
   "metadata": {},
   "source": [
    "There are 681 unique values for the `ticket` column."
   ]
  },
  {
   "cell_type": "code",
   "execution_count": 150,
   "id": "53f02a77",
   "metadata": {},
   "outputs": [
    {
     "data": {
      "text/plain": [
       "<bound method Series.unique of 0       7.2500\n",
       "1      71.2833\n",
       "2       7.9250\n",
       "3      53.1000\n",
       "4       8.0500\n",
       "        ...   \n",
       "886    13.0000\n",
       "887    30.0000\n",
       "888    23.4500\n",
       "889    30.0000\n",
       "890     7.7500\n",
       "Name: fare, Length: 891, dtype: float64>"
      ]
     },
     "execution_count": 150,
     "metadata": {},
     "output_type": "execute_result"
    }
   ],
   "source": [
    "df['fare'].unique"
   ]
  },
  {
   "cell_type": "code",
   "execution_count": 151,
   "id": "4b1004fa",
   "metadata": {},
   "outputs": [
    {
     "data": {
      "text/plain": [
       "248"
      ]
     },
     "execution_count": 151,
     "metadata": {},
     "output_type": "execute_result"
    }
   ],
   "source": [
    "df['fare'].nunique()"
   ]
  },
  {
   "cell_type": "markdown",
   "id": "2a1e5a81",
   "metadata": {},
   "source": [
    "In the `fare` column, there are 248 unique values."
   ]
  },
  {
   "cell_type": "code",
   "execution_count": 152,
   "id": "20d0f07b",
   "metadata": {},
   "outputs": [
    {
     "data": {
      "text/plain": [
       "<bound method Series.unique of 0      unknown\n",
       "1          C85\n",
       "2      unknown\n",
       "3         C123\n",
       "4      unknown\n",
       "        ...   \n",
       "886    unknown\n",
       "887        B42\n",
       "888    unknown\n",
       "889       C148\n",
       "890    unknown\n",
       "Name: cabin, Length: 891, dtype: object>"
      ]
     },
     "execution_count": 152,
     "metadata": {},
     "output_type": "execute_result"
    }
   ],
   "source": [
    "df['cabin'].unique"
   ]
  },
  {
   "cell_type": "code",
   "execution_count": 153,
   "id": "23d8faf9",
   "metadata": {},
   "outputs": [
    {
     "data": {
      "text/plain": [
       "148"
      ]
     },
     "execution_count": 153,
     "metadata": {},
     "output_type": "execute_result"
    }
   ],
   "source": [
    "df['cabin'].nunique()"
   ]
  },
  {
   "cell_type": "markdown",
   "id": "225da56a",
   "metadata": {},
   "source": [
    "As we could see, there are 148 different `cabin`. However, as we know, there are a few passengers with no cabin."
   ]
  },
  {
   "cell_type": "code",
   "execution_count": 154,
   "id": "09b2c55c",
   "metadata": {},
   "outputs": [
    {
     "data": {
      "text/plain": [
       "<bound method Series.unique of 0      S\n",
       "1      C\n",
       "2      S\n",
       "3      S\n",
       "4      S\n",
       "      ..\n",
       "886    S\n",
       "887    S\n",
       "888    S\n",
       "889    C\n",
       "890    Q\n",
       "Name: embarked, Length: 891, dtype: object>"
      ]
     },
     "execution_count": 154,
     "metadata": {},
     "output_type": "execute_result"
    }
   ],
   "source": [
    "df['embarked'].unique"
   ]
  },
  {
   "cell_type": "code",
   "execution_count": 155,
   "id": "aee8bedf",
   "metadata": {},
   "outputs": [
    {
     "data": {
      "text/plain": [
       "3"
      ]
     },
     "execution_count": 155,
     "metadata": {},
     "output_type": "execute_result"
    }
   ],
   "source": [
    "df['embarked'].nunique()"
   ]
  },
  {
   "cell_type": "markdown",
   "id": "c4e26ba1",
   "metadata": {},
   "source": [
    "The passengers embarked in three different ways."
   ]
  },
  {
   "cell_type": "markdown",
   "id": "c27f25dd",
   "metadata": {},
   "source": [
    "**Now that I investigated the unique values, I will explore the data to understand better the information**"
   ]
  },
  {
   "cell_type": "markdown",
   "id": "128d9c8c",
   "metadata": {},
   "source": [
    "Let check how many passengers survived:"
   ]
  },
  {
   "cell_type": "code",
   "execution_count": 156,
   "id": "f7a020f3",
   "metadata": {},
   "outputs": [],
   "source": [
    "# I am creating a copy dataframe to not change the original data for now\n",
    "\n",
    "df_1 = df.copy()"
   ]
  },
  {
   "cell_type": "code",
   "execution_count": 157,
   "id": "2c4080cc",
   "metadata": {},
   "outputs": [],
   "source": [
    "# I will rename the 0 & 1 of the column survived. Where 1 I am calling Survived and 0 Not Survived\n",
    "\n",
    "df_1['survived'].replace({1: \"Survived\", 0: \"Not Survived\"}, inplace=True)"
   ]
  },
  {
   "cell_type": "code",
   "execution_count": 158,
   "id": "0306dc4e",
   "metadata": {},
   "outputs": [],
   "source": [
    "# I will rename the 0 & 1 of the column survived. Where 1 I am calling Survived and 0 Not Survived\n",
    "\n",
    "df_1['sex'].replace({1: \"Male\", 0: \"Female\"}, inplace=True)"
   ]
  },
  {
   "cell_type": "code",
   "execution_count": 159,
   "id": "124253fe",
   "metadata": {},
   "outputs": [
    {
     "data": {
      "text/html": [
       "<div>\n",
       "<style scoped>\n",
       "    .dataframe tbody tr th:only-of-type {\n",
       "        vertical-align: middle;\n",
       "    }\n",
       "\n",
       "    .dataframe tbody tr th {\n",
       "        vertical-align: top;\n",
       "    }\n",
       "\n",
       "    .dataframe thead th {\n",
       "        text-align: right;\n",
       "    }\n",
       "</style>\n",
       "<table border=\"1\" class=\"dataframe\">\n",
       "  <thead>\n",
       "    <tr style=\"text-align: right;\">\n",
       "      <th></th>\n",
       "      <th>survived</th>\n",
       "      <th>passenger_class</th>\n",
       "      <th>sex</th>\n",
       "      <th>age</th>\n",
       "      <th>sib_sp</th>\n",
       "      <th>parch</th>\n",
       "      <th>ticket</th>\n",
       "      <th>fare</th>\n",
       "      <th>cabin</th>\n",
       "      <th>embarked</th>\n",
       "    </tr>\n",
       "  </thead>\n",
       "  <tbody>\n",
       "    <tr>\n",
       "      <th>0</th>\n",
       "      <td>Not Survived</td>\n",
       "      <td>3</td>\n",
       "      <td>Male</td>\n",
       "      <td>22.0</td>\n",
       "      <td>1</td>\n",
       "      <td>0</td>\n",
       "      <td>A/5 21171</td>\n",
       "      <td>7.2500</td>\n",
       "      <td>unknown</td>\n",
       "      <td>S</td>\n",
       "    </tr>\n",
       "    <tr>\n",
       "      <th>1</th>\n",
       "      <td>Survived</td>\n",
       "      <td>1</td>\n",
       "      <td>Female</td>\n",
       "      <td>38.0</td>\n",
       "      <td>1</td>\n",
       "      <td>0</td>\n",
       "      <td>PC 17599</td>\n",
       "      <td>71.2833</td>\n",
       "      <td>C85</td>\n",
       "      <td>C</td>\n",
       "    </tr>\n",
       "    <tr>\n",
       "      <th>2</th>\n",
       "      <td>Survived</td>\n",
       "      <td>3</td>\n",
       "      <td>Female</td>\n",
       "      <td>26.0</td>\n",
       "      <td>0</td>\n",
       "      <td>0</td>\n",
       "      <td>STON/O2. 3101282</td>\n",
       "      <td>7.9250</td>\n",
       "      <td>unknown</td>\n",
       "      <td>S</td>\n",
       "    </tr>\n",
       "    <tr>\n",
       "      <th>3</th>\n",
       "      <td>Survived</td>\n",
       "      <td>1</td>\n",
       "      <td>Female</td>\n",
       "      <td>35.0</td>\n",
       "      <td>1</td>\n",
       "      <td>0</td>\n",
       "      <td>113803</td>\n",
       "      <td>53.1000</td>\n",
       "      <td>C123</td>\n",
       "      <td>S</td>\n",
       "    </tr>\n",
       "    <tr>\n",
       "      <th>4</th>\n",
       "      <td>Not Survived</td>\n",
       "      <td>3</td>\n",
       "      <td>Male</td>\n",
       "      <td>35.0</td>\n",
       "      <td>0</td>\n",
       "      <td>0</td>\n",
       "      <td>373450</td>\n",
       "      <td>8.0500</td>\n",
       "      <td>unknown</td>\n",
       "      <td>S</td>\n",
       "    </tr>\n",
       "  </tbody>\n",
       "</table>\n",
       "</div>"
      ],
      "text/plain": [
       "       survived  passenger_class     sex   age  sib_sp  parch  \\\n",
       "0  Not Survived                3    Male  22.0       1      0   \n",
       "1      Survived                1  Female  38.0       1      0   \n",
       "2      Survived                3  Female  26.0       0      0   \n",
       "3      Survived                1  Female  35.0       1      0   \n",
       "4  Not Survived                3    Male  35.0       0      0   \n",
       "\n",
       "             ticket     fare    cabin embarked  \n",
       "0         A/5 21171   7.2500  unknown        S  \n",
       "1          PC 17599  71.2833      C85        C  \n",
       "2  STON/O2. 3101282   7.9250  unknown        S  \n",
       "3            113803  53.1000     C123        S  \n",
       "4            373450   8.0500  unknown        S  "
      ]
     },
     "execution_count": 159,
     "metadata": {},
     "output_type": "execute_result"
    }
   ],
   "source": [
    "# Checking if it worked\n",
    "\n",
    "df_1.head()"
   ]
  },
  {
   "cell_type": "code",
   "execution_count": 160,
   "id": "d3afc157",
   "metadata": {},
   "outputs": [
    {
     "data": {
      "image/png": "[encoded data removed]",
      "text/plain": [
       "<Figure size 1800x800 with 2 Axes>"
      ]
     },
     "metadata": {},
     "output_type": "display_data"
    }
   ],
   "source": [
    "f, ax = plt.subplots(1,2, figsize=(18,8))\n",
    "df_1['survived'].value_counts().plot.pie(explode=[0, 0.1], autopct='%1.1f%%', ax=ax[0], shadow=True)\n",
    "ax[0].set_title('Survived')\n",
    "ax[0].set_ylabel('')\n",
    "\n",
    "sns.countplot(x='survived', data=df_1, ax=ax[1])\n",
    "ax[1].set_title('Survived')\n",
    "plt.show()"
   ]
  },
  {
   "cell_type": "markdown",
   "id": "c72b1234",
   "metadata": {},
   "source": [
    "As it was expected, we can observe that less than a half of the passengers survived the tragedy. Only around 340 (38%) of the training data set survived the tragedy.\n",
    "\n",
    "I will need to investigate more to understand which categories of passengers did survive and who did not."
   ]
  },
  {
   "cell_type": "code",
   "execution_count": 161,
   "id": "8071a081",
   "metadata": {},
   "outputs": [
    {
     "data": {
      "text/plain": [
       "sex     survived    \n",
       "Female  Not Survived     81\n",
       "        Survived        233\n",
       "Male    Not Survived    468\n",
       "        Survived        109\n",
       "Name: survived, dtype: int64"
      ]
     },
     "execution_count": 161,
     "metadata": {},
     "output_type": "execute_result"
    }
   ],
   "source": [
    "df_1.groupby(['sex', 'survived'])['survived'].count()\n",
    "# Column Sex: \n",
    "# Female- 0 & Male- 1\n",
    "\n",
    "# Column Survived:\n",
    "# Not survived- 0 & Survived- 1"
   ]
  },
  {
   "cell_type": "code",
   "execution_count": 162,
   "id": "91f80034",
   "metadata": {},
   "outputs": [],
   "source": [
    "# I will create another copy of df because df_1 will not work due to not having numeric data in the column survived\n",
    "\n",
    "df_2 = df.copy()"
   ]
  },
  {
   "cell_type": "code",
   "execution_count": 163,
   "id": "89003b98",
   "metadata": {},
   "outputs": [],
   "source": [
    "df_2['sex'].replace({1: \"Male\", 0: \"Female\"}, inplace=True)"
   ]
  },
  {
   "cell_type": "code",
   "execution_count": 164,
   "id": "a7d4f119",
   "metadata": {},
   "outputs": [
    {
     "data": {
      "image/png": "[encoded data removed]",
      "text/plain": [
       "<Figure size 1800x800 with 2 Axes>"
      ]
     },
     "metadata": {},
     "output_type": "display_data"
    }
   ],
   "source": [
    "f, ax = plt.subplots(1,2, figsize=(18,8))\n",
    "df_2[['sex', 'survived']].groupby(['sex']).mean().plot.bar(ax=ax[0])\n",
    "ax[0].set_title('Survived as Sex')\n",
    "sns.countplot(x='sex', hue='survived', data=df_2, ax=ax[1])\n",
    "ax[1].set_title('Sex: Survived vs Dead')\n",
    "plt.show()"
   ]
  },
  {
   "cell_type": "markdown",
   "id": "776efcc8",
   "metadata": {},
   "source": [
    "As we can see, even if the total number of male passengers was almost twice of the female passengers, the survival rate of female passengers was higher than male passengers. The female's survival rate in this tragedy is around 74% while male's survival rate was around 19% only."
   ]
  },
  {
   "cell_type": "markdown",
   "id": "0975af10",
   "metadata": {},
   "source": [
    "Now, I will compare the numbers of survivors based on the type of class"
   ]
  },
  {
   "cell_type": "code",
   "execution_count": 165,
   "id": "60d75151",
   "metadata": {},
   "outputs": [
    {
     "data": {
      "image/png": "[encoded data removed]",
      "text/plain": [
       "<Figure size 1800x800 with 2 Axes>"
      ]
     },
     "metadata": {},
     "output_type": "display_data"
    }
   ],
   "source": [
    "f, ax = plt.subplots(1,2, figsize=(18,8))\n",
    "df['passenger_class'].value_counts().plot.bar(color=['tomato','cornflowerblue','slategray'],ax=ax[0])\n",
    "ax[0].set_title('Number of Passengers By Pclass')\n",
    "ax[0].set_ylabel('Count')\n",
    "sns.countplot(x='passenger_class', hue='survived', data=df, ax=ax[1])\n",
    "ax[1].set_title('Pclass: Survived vs Dead')\n",
    "plt.show()"
   ]
  },
  {
   "cell_type": "code",
   "execution_count": 166,
   "id": "a601775d",
   "metadata": {},
   "outputs": [
    {
     "data": {
      "text/html": [
       "<style type=\"text/css\">\n",
       "#T_cae17_row0_col0, #T_cae17_row1_col1, #T_cae17_row1_col2 {\n",
       "  background-color: #ffffcc;\n",
       "  color: #000000;\n",
       "}\n",
       "#T_cae17_row0_col1 {\n",
       "  background-color: #fee289;\n",
       "  color: #000000;\n",
       "}\n",
       "#T_cae17_row0_col2 {\n",
       "  background-color: #fff9bd;\n",
       "  color: #000000;\n",
       "}\n",
       "#T_cae17_row1_col0 {\n",
       "  background-color: #fffac0;\n",
       "  color: #000000;\n",
       "}\n",
       "#T_cae17_row2_col0 {\n",
       "  background-color: #fc4f2a;\n",
       "  color: #f1f1f1;\n",
       "}\n",
       "#T_cae17_row2_col1 {\n",
       "  background-color: #ffeda0;\n",
       "  color: #000000;\n",
       "}\n",
       "#T_cae17_row2_col2 {\n",
       "  background-color: #fea044;\n",
       "  color: #000000;\n",
       "}\n",
       "#T_cae17_row3_col0, #T_cae17_row3_col1, #T_cae17_row3_col2 {\n",
       "  background-color: #800026;\n",
       "  color: #f1f1f1;\n",
       "}\n",
       "</style>\n",
       "<table id=\"T_cae17\">\n",
       "  <thead>\n",
       "    <tr>\n",
       "      <th class=\"index_name level0\" >survived</th>\n",
       "      <th id=\"T_cae17_level0_col0\" class=\"col_heading level0 col0\" >Not Survived</th>\n",
       "      <th id=\"T_cae17_level0_col1\" class=\"col_heading level0 col1\" >Survived</th>\n",
       "      <th id=\"T_cae17_level0_col2\" class=\"col_heading level0 col2\" >All</th>\n",
       "    </tr>\n",
       "    <tr>\n",
       "      <th class=\"index_name level0\" >passenger_class</th>\n",
       "      <th class=\"blank col0\" >&nbsp;</th>\n",
       "      <th class=\"blank col1\" >&nbsp;</th>\n",
       "      <th class=\"blank col2\" >&nbsp;</th>\n",
       "    </tr>\n",
       "  </thead>\n",
       "  <tbody>\n",
       "    <tr>\n",
       "      <th id=\"T_cae17_level0_row0\" class=\"row_heading level0 row0\" >1</th>\n",
       "      <td id=\"T_cae17_row0_col0\" class=\"data row0 col0\" >80</td>\n",
       "      <td id=\"T_cae17_row0_col1\" class=\"data row0 col1\" >136</td>\n",
       "      <td id=\"T_cae17_row0_col2\" class=\"data row0 col2\" >216</td>\n",
       "    </tr>\n",
       "    <tr>\n",
       "      <th id=\"T_cae17_level0_row1\" class=\"row_heading level0 row1\" >2</th>\n",
       "      <td id=\"T_cae17_row1_col0\" class=\"data row1 col0\" >97</td>\n",
       "      <td id=\"T_cae17_row1_col1\" class=\"data row1 col1\" >87</td>\n",
       "      <td id=\"T_cae17_row1_col2\" class=\"data row1 col2\" >184</td>\n",
       "    </tr>\n",
       "    <tr>\n",
       "      <th id=\"T_cae17_level0_row2\" class=\"row_heading level0 row2\" >3</th>\n",
       "      <td id=\"T_cae17_row2_col0\" class=\"data row2 col0\" >372</td>\n",
       "      <td id=\"T_cae17_row2_col1\" class=\"data row2 col1\" >119</td>\n",
       "      <td id=\"T_cae17_row2_col2\" class=\"data row2 col2\" >491</td>\n",
       "    </tr>\n",
       "    <tr>\n",
       "      <th id=\"T_cae17_level0_row3\" class=\"row_heading level0 row3\" >All</th>\n",
       "      <td id=\"T_cae17_row3_col0\" class=\"data row3 col0\" >549</td>\n",
       "      <td id=\"T_cae17_row3_col1\" class=\"data row3 col1\" >342</td>\n",
       "      <td id=\"T_cae17_row3_col2\" class=\"data row3 col2\" >891</td>\n",
       "    </tr>\n",
       "  </tbody>\n",
       "</table>\n"
      ],
      "text/plain": [
       "<pandas.io.formats.style.Styler at 0x1d6903d7a90>"
      ]
     },
     "execution_count": 166,
     "metadata": {},
     "output_type": "execute_result"
    }
   ],
   "source": [
    "pd.crosstab(df_1.passenger_class, df_1.survived, margins=True).style.background_gradient(cmap='YlOrRd')"
   ]
  },
  {
   "cell_type": "markdown",
   "id": "c9231305",
   "metadata": {},
   "source": [
    "As I can see, the class 3 presented the highest number of passengers in the ship. However, when we compare the survival rate based on the class, we can clearly observe that class 1 had a high priority for rescuing during the tragedy.\n",
    "\n",
    "While for class 1 & class 2 the survival rates were around 62.96% and 47.28% respectively, in class 3, it was only 24.23%.\n",
    "\n",
    "Now I would like to use the crosstab including the passenger sex:"
   ]
  },
  {
   "cell_type": "code",
   "execution_count": 167,
   "id": "da1f73e8",
   "metadata": {},
   "outputs": [
    {
     "data": {
      "text/html": [
       "<style type=\"text/css\">\n",
       "#T_c2b8f_row0_col0, #T_c2b8f_row0_col1, #T_c2b8f_row0_col3, #T_c2b8f_row3_col2 {\n",
       "  background-color: #ffffcc;\n",
       "  color: #000000;\n",
       "}\n",
       "#T_c2b8f_row0_col2, #T_c2b8f_row1_col2 {\n",
       "  background-color: #fff7b9;\n",
       "  color: #000000;\n",
       "}\n",
       "#T_c2b8f_row1_col0 {\n",
       "  background-color: #fea747;\n",
       "  color: #000000;\n",
       "}\n",
       "#T_c2b8f_row1_col1 {\n",
       "  background-color: #feb651;\n",
       "  color: #000000;\n",
       "}\n",
       "#T_c2b8f_row1_col3 {\n",
       "  background-color: #fee38b;\n",
       "  color: #000000;\n",
       "}\n",
       "#T_c2b8f_row2_col0 {\n",
       "  background-color: #febb56;\n",
       "  color: #000000;\n",
       "}\n",
       "#T_c2b8f_row2_col1, #T_c2b8f_row2_col3 {\n",
       "  background-color: #fd933f;\n",
       "  color: #000000;\n",
       "}\n",
       "#T_c2b8f_row2_col2 {\n",
       "  background-color: #fc6a32;\n",
       "  color: #f1f1f1;\n",
       "}\n",
       "#T_c2b8f_row3_col0 {\n",
       "  background-color: #fee288;\n",
       "  color: #000000;\n",
       "}\n",
       "#T_c2b8f_row3_col1 {\n",
       "  background-color: #fff7b7;\n",
       "  color: #000000;\n",
       "}\n",
       "#T_c2b8f_row3_col3 {\n",
       "  background-color: #fffac1;\n",
       "  color: #000000;\n",
       "}\n",
       "#T_c2b8f_row4_col0, #T_c2b8f_row4_col1, #T_c2b8f_row4_col2, #T_c2b8f_row4_col3 {\n",
       "  background-color: #800026;\n",
       "  color: #f1f1f1;\n",
       "}\n",
       "</style>\n",
       "<table id=\"T_c2b8f\">\n",
       "  <thead>\n",
       "    <tr>\n",
       "      <th class=\"blank\" >&nbsp;</th>\n",
       "      <th class=\"index_name level0\" >passenger_class</th>\n",
       "      <th id=\"T_c2b8f_level0_col0\" class=\"col_heading level0 col0\" >1</th>\n",
       "      <th id=\"T_c2b8f_level0_col1\" class=\"col_heading level0 col1\" >2</th>\n",
       "      <th id=\"T_c2b8f_level0_col2\" class=\"col_heading level0 col2\" >3</th>\n",
       "      <th id=\"T_c2b8f_level0_col3\" class=\"col_heading level0 col3\" >All</th>\n",
       "    </tr>\n",
       "    <tr>\n",
       "      <th class=\"index_name level0\" >sex</th>\n",
       "      <th class=\"index_name level1\" >survived</th>\n",
       "      <th class=\"blank col0\" >&nbsp;</th>\n",
       "      <th class=\"blank col1\" >&nbsp;</th>\n",
       "      <th class=\"blank col2\" >&nbsp;</th>\n",
       "      <th class=\"blank col3\" >&nbsp;</th>\n",
       "    </tr>\n",
       "  </thead>\n",
       "  <tbody>\n",
       "    <tr>\n",
       "      <th id=\"T_c2b8f_level0_row0\" class=\"row_heading level0 row0\" rowspan=\"2\">Female</th>\n",
       "      <th id=\"T_c2b8f_level1_row0\" class=\"row_heading level1 row0\" >Not Survived</th>\n",
       "      <td id=\"T_c2b8f_row0_col0\" class=\"data row0 col0\" >3</td>\n",
       "      <td id=\"T_c2b8f_row0_col1\" class=\"data row0 col1\" >6</td>\n",
       "      <td id=\"T_c2b8f_row0_col2\" class=\"data row0 col2\" >72</td>\n",
       "      <td id=\"T_c2b8f_row0_col3\" class=\"data row0 col3\" >81</td>\n",
       "    </tr>\n",
       "    <tr>\n",
       "      <th id=\"T_c2b8f_level1_row1\" class=\"row_heading level1 row1\" >Survived</th>\n",
       "      <td id=\"T_c2b8f_row1_col0\" class=\"data row1 col0\" >91</td>\n",
       "      <td id=\"T_c2b8f_row1_col1\" class=\"data row1 col1\" >70</td>\n",
       "      <td id=\"T_c2b8f_row1_col2\" class=\"data row1 col2\" >72</td>\n",
       "      <td id=\"T_c2b8f_row1_col3\" class=\"data row1 col3\" >233</td>\n",
       "    </tr>\n",
       "    <tr>\n",
       "      <th id=\"T_c2b8f_level0_row2\" class=\"row_heading level0 row2\" rowspan=\"2\">Male</th>\n",
       "      <th id=\"T_c2b8f_level1_row2\" class=\"row_heading level1 row2\" >Not Survived</th>\n",
       "      <td id=\"T_c2b8f_row2_col0\" class=\"data row2 col0\" >77</td>\n",
       "      <td id=\"T_c2b8f_row2_col1\" class=\"data row2 col1\" >91</td>\n",
       "      <td id=\"T_c2b8f_row2_col2\" class=\"data row2 col2\" >300</td>\n",
       "      <td id=\"T_c2b8f_row2_col3\" class=\"data row2 col3\" >468</td>\n",
       "    </tr>\n",
       "    <tr>\n",
       "      <th id=\"T_c2b8f_level1_row3\" class=\"row_heading level1 row3\" >Survived</th>\n",
       "      <td id=\"T_c2b8f_row3_col0\" class=\"data row3 col0\" >45</td>\n",
       "      <td id=\"T_c2b8f_row3_col1\" class=\"data row3 col1\" >17</td>\n",
       "      <td id=\"T_c2b8f_row3_col2\" class=\"data row3 col2\" >47</td>\n",
       "      <td id=\"T_c2b8f_row3_col3\" class=\"data row3 col3\" >109</td>\n",
       "    </tr>\n",
       "    <tr>\n",
       "      <th id=\"T_c2b8f_level0_row4\" class=\"row_heading level0 row4\" >All</th>\n",
       "      <th id=\"T_c2b8f_level1_row4\" class=\"row_heading level1 row4\" ></th>\n",
       "      <td id=\"T_c2b8f_row4_col0\" class=\"data row4 col0\" >216</td>\n",
       "      <td id=\"T_c2b8f_row4_col1\" class=\"data row4 col1\" >184</td>\n",
       "      <td id=\"T_c2b8f_row4_col2\" class=\"data row4 col2\" >491</td>\n",
       "      <td id=\"T_c2b8f_row4_col3\" class=\"data row4 col3\" >891</td>\n",
       "    </tr>\n",
       "  </tbody>\n",
       "</table>\n"
      ],
      "text/plain": [
       "<pandas.io.formats.style.Styler at 0x1d690dfdeb0>"
      ]
     },
     "execution_count": 167,
     "metadata": {},
     "output_type": "execute_result"
    }
   ],
   "source": [
    "pd.crosstab([df_1.sex, df_1.survived], df_1.passenger_class, margins=True).style.background_gradient(cmap='YlOrRd')"
   ]
  },
  {
   "cell_type": "markdown",
   "id": "77cba777",
   "metadata": {},
   "source": [
    "By looking at the above tab, we can clearly see that if you were a female in class 1 your chances of surviving were very high. Only 3 out of 94 women died (3.19% of the total), while in class 3, 72 out of 144 women had died in the tragedy (50% of the total).\n",
    "\n",
    "Moreover, it is also possible to conclude that, based on the above result, regardless of the class, women were given higher priority in the rescue than men passengers."
   ]
  },
  {
   "cell_type": "code",
   "execution_count": 168,
   "id": "8b27575d",
   "metadata": {},
   "outputs": [
    {
     "data": {
      "text/html": [
       "<div>\n",
       "<style scoped>\n",
       "    .dataframe tbody tr th:only-of-type {\n",
       "        vertical-align: middle;\n",
       "    }\n",
       "\n",
       "    .dataframe tbody tr th {\n",
       "        vertical-align: top;\n",
       "    }\n",
       "\n",
       "    .dataframe thead th {\n",
       "        text-align: right;\n",
       "    }\n",
       "</style>\n",
       "<table border=\"1\" class=\"dataframe\">\n",
       "  <thead>\n",
       "    <tr style=\"text-align: right;\">\n",
       "      <th></th>\n",
       "      <th>count</th>\n",
       "      <th>mean</th>\n",
       "      <th>std</th>\n",
       "      <th>min</th>\n",
       "      <th>25%</th>\n",
       "      <th>50%</th>\n",
       "      <th>75%</th>\n",
       "      <th>max</th>\n",
       "    </tr>\n",
       "  </thead>\n",
       "  <tbody>\n",
       "    <tr>\n",
       "      <th>survived</th>\n",
       "      <td>891.0</td>\n",
       "      <td>0.383838</td>\n",
       "      <td>0.486592</td>\n",
       "      <td>0.00</td>\n",
       "      <td>0.0000</td>\n",
       "      <td>0.0000</td>\n",
       "      <td>1.0</td>\n",
       "      <td>1.0000</td>\n",
       "    </tr>\n",
       "    <tr>\n",
       "      <th>passenger_class</th>\n",
       "      <td>891.0</td>\n",
       "      <td>2.308642</td>\n",
       "      <td>0.836071</td>\n",
       "      <td>1.00</td>\n",
       "      <td>2.0000</td>\n",
       "      <td>3.0000</td>\n",
       "      <td>3.0</td>\n",
       "      <td>3.0000</td>\n",
       "    </tr>\n",
       "    <tr>\n",
       "      <th>sex</th>\n",
       "      <td>891.0</td>\n",
       "      <td>0.647587</td>\n",
       "      <td>0.477990</td>\n",
       "      <td>0.00</td>\n",
       "      <td>0.0000</td>\n",
       "      <td>1.0000</td>\n",
       "      <td>1.0</td>\n",
       "      <td>1.0000</td>\n",
       "    </tr>\n",
       "    <tr>\n",
       "      <th>age</th>\n",
       "      <td>891.0</td>\n",
       "      <td>28.566970</td>\n",
       "      <td>13.199572</td>\n",
       "      <td>0.42</td>\n",
       "      <td>22.0000</td>\n",
       "      <td>24.0000</td>\n",
       "      <td>35.0</td>\n",
       "      <td>80.0000</td>\n",
       "    </tr>\n",
       "    <tr>\n",
       "      <th>sib_sp</th>\n",
       "      <td>891.0</td>\n",
       "      <td>0.523008</td>\n",
       "      <td>1.102743</td>\n",
       "      <td>0.00</td>\n",
       "      <td>0.0000</td>\n",
       "      <td>0.0000</td>\n",
       "      <td>1.0</td>\n",
       "      <td>8.0000</td>\n",
       "    </tr>\n",
       "    <tr>\n",
       "      <th>parch</th>\n",
       "      <td>891.0</td>\n",
       "      <td>0.381594</td>\n",
       "      <td>0.806057</td>\n",
       "      <td>0.00</td>\n",
       "      <td>0.0000</td>\n",
       "      <td>0.0000</td>\n",
       "      <td>0.0</td>\n",
       "      <td>6.0000</td>\n",
       "    </tr>\n",
       "    <tr>\n",
       "      <th>fare</th>\n",
       "      <td>891.0</td>\n",
       "      <td>32.204208</td>\n",
       "      <td>49.693429</td>\n",
       "      <td>0.00</td>\n",
       "      <td>7.9104</td>\n",
       "      <td>14.4542</td>\n",
       "      <td>31.0</td>\n",
       "      <td>512.3292</td>\n",
       "    </tr>\n",
       "  </tbody>\n",
       "</table>\n",
       "</div>"
      ],
      "text/plain": [
       "                 count       mean        std   min      25%      50%   75%  \\\n",
       "survived         891.0   0.383838   0.486592  0.00   0.0000   0.0000   1.0   \n",
       "passenger_class  891.0   2.308642   0.836071  1.00   2.0000   3.0000   3.0   \n",
       "sex              891.0   0.647587   0.477990  0.00   0.0000   1.0000   1.0   \n",
       "age              891.0  28.566970  13.199572  0.42  22.0000  24.0000  35.0   \n",
       "sib_sp           891.0   0.523008   1.102743  0.00   0.0000   0.0000   1.0   \n",
       "parch            891.0   0.381594   0.806057  0.00   0.0000   0.0000   0.0   \n",
       "fare             891.0  32.204208  49.693429  0.00   7.9104  14.4542  31.0   \n",
       "\n",
       "                      max  \n",
       "survived           1.0000  \n",
       "passenger_class    3.0000  \n",
       "sex                1.0000  \n",
       "age               80.0000  \n",
       "sib_sp             8.0000  \n",
       "parch              6.0000  \n",
       "fare             512.3292  "
      ]
     },
     "execution_count": 168,
     "metadata": {},
     "output_type": "execute_result"
    }
   ],
   "source": [
    "# Geting the summary stats for numeric columns\n",
    "\n",
    "df.describe().T"
   ]
  },
  {
   "cell_type": "markdown",
   "id": "a35df47a",
   "metadata": {},
   "source": [
    "Standard deviation tells us about the variability of values in the dataset. As we could see, the Std is close to zero for most of the variants, however, age and specially fare demonstrated a big variation.\n",
    "\n",
    "I will use a histogram to see the distribution of age and fare columns with the mean and median."
   ]
  },
  {
   "cell_type": "code",
   "execution_count": 169,
   "id": "34f6b9ba",
   "metadata": {},
   "outputs": [
    {
     "data": {
      "image/png": "[encoded data removed]",
      "text/plain": [
       "<Figure size 1500x500 with 1 Axes>"
      ]
     },
     "metadata": {},
     "output_type": "display_data"
    }
   ],
   "source": [
    "plt.figure(figsize=(15, 5))\n",
    "\n",
    "plt.hist(df['age'], bins=80, color='tab:red')\n",
    "\n",
    "# Overplot mean and median ages\n",
    "plt.axvline(df['age'].median(), color='cornflowerblue', label='median')\n",
    "plt.axvline(df['age'].mean(), color='goldenrod', label='mean')\n",
    "\n",
    "\n",
    "plt.title('Distribution of age')\n",
    "plt.ylabel('Count of age')\n",
    "plt.legend()\n",
    "\n",
    "plt.show()"
   ]
  },
  {
   "cell_type": "markdown",
   "id": "1e022f29",
   "metadata": {},
   "source": [
    "Checking the above graphic, if we ignore the peak around 25, the distribution of age appears to be normal ish.\n",
    "\n",
    "The median is located close to that peak at age of 25 years old, while the mean close to 28 years old."
   ]
  },
  {
   "cell_type": "code",
   "execution_count": 170,
   "id": "d3e6fc97",
   "metadata": {},
   "outputs": [
    {
     "data": {
      "image/png": "[encoded data removed]",
      "text/plain": [
       "<Figure size 1500x500 with 1 Axes>"
      ]
     },
     "metadata": {},
     "output_type": "display_data"
    }
   ],
   "source": [
    "plt.figure(figsize=(15, 5))\n",
    "\n",
    "plt.hist(df['fare'], bins=50, color='tab:red')\n",
    "\n",
    "# Overplot mean and median ages\n",
    "plt.axvline(df['fare'].median(), color='cornflowerblue', label='median')\n",
    "plt.axvline(df['fare'].mean(), color='goldenrod', label='mean')\n",
    "\n",
    "\n",
    "plt.title('Distribution of fare')\n",
    "plt.ylabel('Count of fare')\n",
    "plt.legend()\n",
    "\n",
    "plt.show()"
   ]
  },
  {
   "cell_type": "markdown",
   "id": "98f45801",
   "metadata": {},
   "source": [
    "The distribution of likes appears to be more of a right-skewed type distribution. The median would look to be close to the peak of the distribution. While the mean would be closer to the lower side."
   ]
  },
  {
   "cell_type": "markdown",
   "id": "be47b115",
   "metadata": {},
   "source": [
    "Now that I have checked the distribution of some of the numeric columns, I would like to check the covariance and correlation between these columns."
   ]
  },
  {
   "cell_type": "code",
   "execution_count": 171,
   "id": "f7e39632",
   "metadata": {},
   "outputs": [
    {
     "data": {
      "text/html": [
       "<div>\n",
       "<style scoped>\n",
       "    .dataframe tbody tr th:only-of-type {\n",
       "        vertical-align: middle;\n",
       "    }\n",
       "\n",
       "    .dataframe tbody tr th {\n",
       "        vertical-align: top;\n",
       "    }\n",
       "\n",
       "    .dataframe thead th {\n",
       "        text-align: right;\n",
       "    }\n",
       "</style>\n",
       "<table border=\"1\" class=\"dataframe\">\n",
       "  <thead>\n",
       "    <tr style=\"text-align: right;\">\n",
       "      <th></th>\n",
       "      <th>survived</th>\n",
       "      <th>passenger_class</th>\n",
       "      <th>sex</th>\n",
       "      <th>age</th>\n",
       "      <th>sib_sp</th>\n",
       "      <th>parch</th>\n",
       "      <th>fare</th>\n",
       "    </tr>\n",
       "  </thead>\n",
       "  <tbody>\n",
       "    <tr>\n",
       "      <th>survived</th>\n",
       "      <td>0.236772</td>\n",
       "      <td>-0.137703</td>\n",
       "      <td>-0.126376</td>\n",
       "      <td>-0.339588</td>\n",
       "      <td>-0.018954</td>\n",
       "      <td>0.032017</td>\n",
       "      <td>6.221787</td>\n",
       "    </tr>\n",
       "    <tr>\n",
       "      <th>passenger_class</th>\n",
       "      <td>-0.137703</td>\n",
       "      <td>0.699015</td>\n",
       "      <td>0.052712</td>\n",
       "      <td>-3.930805</td>\n",
       "      <td>0.076599</td>\n",
       "      <td>0.012429</td>\n",
       "      <td>-22.830196</td>\n",
       "    </tr>\n",
       "    <tr>\n",
       "      <th>sex</th>\n",
       "      <td>-0.126376</td>\n",
       "      <td>0.052712</td>\n",
       "      <td>0.228475</td>\n",
       "      <td>0.462953</td>\n",
       "      <td>-0.060422</td>\n",
       "      <td>-0.094584</td>\n",
       "      <td>-4.330946</td>\n",
       "    </tr>\n",
       "    <tr>\n",
       "      <th>age</th>\n",
       "      <td>-0.339588</td>\n",
       "      <td>-3.930805</td>\n",
       "      <td>0.462953</td>\n",
       "      <td>174.228695</td>\n",
       "      <td>-3.382908</td>\n",
       "      <td>-1.650393</td>\n",
       "      <td>70.548131</td>\n",
       "    </tr>\n",
       "    <tr>\n",
       "      <th>sib_sp</th>\n",
       "      <td>-0.018954</td>\n",
       "      <td>0.076599</td>\n",
       "      <td>-0.060422</td>\n",
       "      <td>-3.382908</td>\n",
       "      <td>1.216043</td>\n",
       "      <td>0.368739</td>\n",
       "      <td>8.748734</td>\n",
       "    </tr>\n",
       "    <tr>\n",
       "      <th>parch</th>\n",
       "      <td>0.032017</td>\n",
       "      <td>0.012429</td>\n",
       "      <td>-0.094584</td>\n",
       "      <td>-1.650393</td>\n",
       "      <td>0.368739</td>\n",
       "      <td>0.649728</td>\n",
       "      <td>8.661052</td>\n",
       "    </tr>\n",
       "    <tr>\n",
       "      <th>fare</th>\n",
       "      <td>6.221787</td>\n",
       "      <td>-22.830196</td>\n",
       "      <td>-4.330946</td>\n",
       "      <td>70.548131</td>\n",
       "      <td>8.748734</td>\n",
       "      <td>8.661052</td>\n",
       "      <td>2469.436846</td>\n",
       "    </tr>\n",
       "  </tbody>\n",
       "</table>\n",
       "</div>"
      ],
      "text/plain": [
       "                 survived  passenger_class       sex         age    sib_sp  \\\n",
       "survived         0.236772        -0.137703 -0.126376   -0.339588 -0.018954   \n",
       "passenger_class -0.137703         0.699015  0.052712   -3.930805  0.076599   \n",
       "sex             -0.126376         0.052712  0.228475    0.462953 -0.060422   \n",
       "age             -0.339588        -3.930805  0.462953  174.228695 -3.382908   \n",
       "sib_sp          -0.018954         0.076599 -0.060422   -3.382908  1.216043   \n",
       "parch            0.032017         0.012429 -0.094584   -1.650393  0.368739   \n",
       "fare             6.221787       -22.830196 -4.330946   70.548131  8.748734   \n",
       "\n",
       "                    parch         fare  \n",
       "survived         0.032017     6.221787  \n",
       "passenger_class  0.012429   -22.830196  \n",
       "sex             -0.094584    -4.330946  \n",
       "age             -1.650393    70.548131  \n",
       "sib_sp           0.368739     8.748734  \n",
       "parch            0.649728     8.661052  \n",
       "fare             8.661052  2469.436846  "
      ]
     },
     "execution_count": 171,
     "metadata": {},
     "output_type": "execute_result"
    }
   ],
   "source": [
    "df.cov()"
   ]
  },
  {
   "cell_type": "markdown",
   "id": "90cbc724",
   "metadata": {},
   "source": [
    "By observing the covariance table, it appears that passenger class, age, and sex show a negative covariance with survived column. We will take a look at The Correlation Matrix to understand a little bit more about it."
   ]
  },
  {
   "cell_type": "code",
   "execution_count": 172,
   "id": "a4c72fea",
   "metadata": {},
   "outputs": [
    {
     "data": {
      "text/html": [
       "<div>\n",
       "<style scoped>\n",
       "    .dataframe tbody tr th:only-of-type {\n",
       "        vertical-align: middle;\n",
       "    }\n",
       "\n",
       "    .dataframe tbody tr th {\n",
       "        vertical-align: top;\n",
       "    }\n",
       "\n",
       "    .dataframe thead th {\n",
       "        text-align: right;\n",
       "    }\n",
       "</style>\n",
       "<table border=\"1\" class=\"dataframe\">\n",
       "  <thead>\n",
       "    <tr style=\"text-align: right;\">\n",
       "      <th></th>\n",
       "      <th>survived</th>\n",
       "      <th>passenger_class</th>\n",
       "      <th>sex</th>\n",
       "      <th>age</th>\n",
       "      <th>sib_sp</th>\n",
       "      <th>parch</th>\n",
       "      <th>fare</th>\n",
       "    </tr>\n",
       "  </thead>\n",
       "  <tbody>\n",
       "    <tr>\n",
       "      <th>survived</th>\n",
       "      <td>1.000000</td>\n",
       "      <td>-0.338481</td>\n",
       "      <td>-0.543351</td>\n",
       "      <td>-0.052872</td>\n",
       "      <td>-0.035322</td>\n",
       "      <td>0.081629</td>\n",
       "      <td>0.257307</td>\n",
       "    </tr>\n",
       "    <tr>\n",
       "      <th>passenger_class</th>\n",
       "      <td>-0.338481</td>\n",
       "      <td>1.000000</td>\n",
       "      <td>0.131900</td>\n",
       "      <td>-0.356187</td>\n",
       "      <td>0.083081</td>\n",
       "      <td>0.018443</td>\n",
       "      <td>-0.549500</td>\n",
       "    </tr>\n",
       "    <tr>\n",
       "      <th>sex</th>\n",
       "      <td>-0.543351</td>\n",
       "      <td>0.131900</td>\n",
       "      <td>1.000000</td>\n",
       "      <td>0.073377</td>\n",
       "      <td>-0.114631</td>\n",
       "      <td>-0.245489</td>\n",
       "      <td>-0.182333</td>\n",
       "    </tr>\n",
       "    <tr>\n",
       "      <th>age</th>\n",
       "      <td>-0.052872</td>\n",
       "      <td>-0.356187</td>\n",
       "      <td>0.073377</td>\n",
       "      <td>1.000000</td>\n",
       "      <td>-0.232411</td>\n",
       "      <td>-0.155118</td>\n",
       "      <td>0.107554</td>\n",
       "    </tr>\n",
       "    <tr>\n",
       "      <th>sib_sp</th>\n",
       "      <td>-0.035322</td>\n",
       "      <td>0.083081</td>\n",
       "      <td>-0.114631</td>\n",
       "      <td>-0.232411</td>\n",
       "      <td>1.000000</td>\n",
       "      <td>0.414838</td>\n",
       "      <td>0.159651</td>\n",
       "    </tr>\n",
       "    <tr>\n",
       "      <th>parch</th>\n",
       "      <td>0.081629</td>\n",
       "      <td>0.018443</td>\n",
       "      <td>-0.245489</td>\n",
       "      <td>-0.155118</td>\n",
       "      <td>0.414838</td>\n",
       "      <td>1.000000</td>\n",
       "      <td>0.216225</td>\n",
       "    </tr>\n",
       "    <tr>\n",
       "      <th>fare</th>\n",
       "      <td>0.257307</td>\n",
       "      <td>-0.549500</td>\n",
       "      <td>-0.182333</td>\n",
       "      <td>0.107554</td>\n",
       "      <td>0.159651</td>\n",
       "      <td>0.216225</td>\n",
       "      <td>1.000000</td>\n",
       "    </tr>\n",
       "  </tbody>\n",
       "</table>\n",
       "</div>"
      ],
      "text/plain": [
       "                 survived  passenger_class       sex       age    sib_sp  \\\n",
       "survived         1.000000        -0.338481 -0.543351 -0.052872 -0.035322   \n",
       "passenger_class -0.338481         1.000000  0.131900 -0.356187  0.083081   \n",
       "sex             -0.543351         0.131900  1.000000  0.073377 -0.114631   \n",
       "age             -0.052872        -0.356187  0.073377  1.000000 -0.232411   \n",
       "sib_sp          -0.035322         0.083081 -0.114631 -0.232411  1.000000   \n",
       "parch            0.081629         0.018443 -0.245489 -0.155118  0.414838   \n",
       "fare             0.257307        -0.549500 -0.182333  0.107554  0.159651   \n",
       "\n",
       "                    parch      fare  \n",
       "survived         0.081629  0.257307  \n",
       "passenger_class  0.018443 -0.549500  \n",
       "sex             -0.245489 -0.182333  \n",
       "age             -0.155118  0.107554  \n",
       "sib_sp           0.414838  0.159651  \n",
       "parch            1.000000  0.216225  \n",
       "fare             0.216225  1.000000  "
      ]
     },
     "execution_count": 172,
     "metadata": {},
     "output_type": "execute_result"
    }
   ],
   "source": [
    "df.corr()"
   ]
  },
  {
   "cell_type": "markdown",
   "id": "7ce3d5dd",
   "metadata": {},
   "source": [
    "For a better visualization, I will show the correlation in a heat map."
   ]
  },
  {
   "cell_type": "code",
   "execution_count": 173,
   "id": "58f78317",
   "metadata": {},
   "outputs": [
    {
     "data": {
      "image/png": "[encoded data removed]",
      "text/plain": [
       "<Figure size 2000x1000 with 2 Axes>"
      ]
     },
     "metadata": {},
     "output_type": "display_data"
    }
   ],
   "source": [
    "plt.figure(figsize=(20,10))\n",
    "matrix = np.triu(df.corr())\n",
    "sns.heatmap(df.corr(), annot=True, mask=matrix, cmap='coolwarm')\n",
    "plt.xticks(rotation=15)\n",
    "plt.yticks(rotation=15)\n",
    "plt.show()"
   ]
  },
  {
   "cell_type": "markdown",
   "id": "44d93e65",
   "metadata": {},
   "source": [
    "Positive Correlation: If an increase in feature A leads in feature B, then they are positively correlated. A value 1 means perfect positive correlation.\n",
    "\n",
    "Negative Correlation: If an increase in feature A leads to decrease in feature B, then they are negatively correlated. A value -1 means perfect negative correlation.\n",
    "\n",
    "When we look the above heatmap, it is possible to identify the highest correlation is between sib_sp and parch (0.41). Therefore, we can continue with all features."
   ]
  },
  {
   "cell_type": "markdown",
   "id": "9741f4c9",
   "metadata": {},
   "source": [
    "*****\n",
    "## Feature Engineering"
   ]
  },
  {
   "cell_type": "markdown",
   "id": "d36da674",
   "metadata": {},
   "source": [
    "Feature engineering is the process of checking, extracting, and organizing the important features from the data you are working on. That means, we can produce new features using the other features.\n",
    "\n",
    "Therefore, in this part I will check on the features and see if I can produce a new feature that will help better the Model."
   ]
  },
  {
   "cell_type": "markdown",
   "id": "71576a14",
   "metadata": {},
   "source": [
    "Age is a good feature that we can easily separate into groups/bands.\n",
    "\n",
    "The maximum age of the passenger was 80. Therefore, we can divide it in 5 different groups and rearrange it into groups of 16 (80/5=16)."
   ]
  },
  {
   "cell_type": "code",
   "execution_count": 174,
   "id": "ec67e6ab",
   "metadata": {},
   "outputs": [
    {
     "data": {
      "text/html": [
       "<div>\n",
       "<style scoped>\n",
       "    .dataframe tbody tr th:only-of-type {\n",
       "        vertical-align: middle;\n",
       "    }\n",
       "\n",
       "    .dataframe tbody tr th {\n",
       "        vertical-align: top;\n",
       "    }\n",
       "\n",
       "    .dataframe thead th {\n",
       "        text-align: right;\n",
       "    }\n",
       "</style>\n",
       "<table border=\"1\" class=\"dataframe\">\n",
       "  <thead>\n",
       "    <tr style=\"text-align: right;\">\n",
       "      <th></th>\n",
       "      <th>survived</th>\n",
       "      <th>passenger_class</th>\n",
       "      <th>sex</th>\n",
       "      <th>age</th>\n",
       "      <th>sib_sp</th>\n",
       "      <th>parch</th>\n",
       "      <th>ticket</th>\n",
       "      <th>fare</th>\n",
       "      <th>cabin</th>\n",
       "      <th>embarked</th>\n",
       "      <th>age_group</th>\n",
       "    </tr>\n",
       "  </thead>\n",
       "  <tbody>\n",
       "    <tr>\n",
       "      <th>0</th>\n",
       "      <td>0</td>\n",
       "      <td>3</td>\n",
       "      <td>1</td>\n",
       "      <td>22.0</td>\n",
       "      <td>1</td>\n",
       "      <td>0</td>\n",
       "      <td>A/5 21171</td>\n",
       "      <td>7.2500</td>\n",
       "      <td>unknown</td>\n",
       "      <td>S</td>\n",
       "      <td>1</td>\n",
       "    </tr>\n",
       "    <tr>\n",
       "      <th>1</th>\n",
       "      <td>1</td>\n",
       "      <td>1</td>\n",
       "      <td>0</td>\n",
       "      <td>38.0</td>\n",
       "      <td>1</td>\n",
       "      <td>0</td>\n",
       "      <td>PC 17599</td>\n",
       "      <td>71.2833</td>\n",
       "      <td>C85</td>\n",
       "      <td>C</td>\n",
       "      <td>2</td>\n",
       "    </tr>\n",
       "    <tr>\n",
       "      <th>2</th>\n",
       "      <td>1</td>\n",
       "      <td>3</td>\n",
       "      <td>0</td>\n",
       "      <td>26.0</td>\n",
       "      <td>0</td>\n",
       "      <td>0</td>\n",
       "      <td>STON/O2. 3101282</td>\n",
       "      <td>7.9250</td>\n",
       "      <td>unknown</td>\n",
       "      <td>S</td>\n",
       "      <td>1</td>\n",
       "    </tr>\n",
       "    <tr>\n",
       "      <th>3</th>\n",
       "      <td>1</td>\n",
       "      <td>1</td>\n",
       "      <td>0</td>\n",
       "      <td>35.0</td>\n",
       "      <td>1</td>\n",
       "      <td>0</td>\n",
       "      <td>113803</td>\n",
       "      <td>53.1000</td>\n",
       "      <td>C123</td>\n",
       "      <td>S</td>\n",
       "      <td>2</td>\n",
       "    </tr>\n",
       "    <tr>\n",
       "      <th>4</th>\n",
       "      <td>0</td>\n",
       "      <td>3</td>\n",
       "      <td>1</td>\n",
       "      <td>35.0</td>\n",
       "      <td>0</td>\n",
       "      <td>0</td>\n",
       "      <td>373450</td>\n",
       "      <td>8.0500</td>\n",
       "      <td>unknown</td>\n",
       "      <td>S</td>\n",
       "      <td>2</td>\n",
       "    </tr>\n",
       "  </tbody>\n",
       "</table>\n",
       "</div>"
      ],
      "text/plain": [
       "   survived  passenger_class  sex   age  sib_sp  parch            ticket  \\\n",
       "0         0                3    1  22.0       1      0         A/5 21171   \n",
       "1         1                1    0  38.0       1      0          PC 17599   \n",
       "2         1                3    0  26.0       0      0  STON/O2. 3101282   \n",
       "3         1                1    0  35.0       1      0            113803   \n",
       "4         0                3    1  35.0       0      0            373450   \n",
       "\n",
       "      fare    cabin embarked  age_group  \n",
       "0   7.2500  unknown        S          1  \n",
       "1  71.2833      C85        C          2  \n",
       "2   7.9250  unknown        S          1  \n",
       "3  53.1000     C123        S          2  \n",
       "4   8.0500  unknown        S          2  "
      ]
     },
     "execution_count": 174,
     "metadata": {},
     "output_type": "execute_result"
    }
   ],
   "source": [
    "df['age_group'] = 0\n",
    "df.loc[df['age']<=16, 'age_group'] = 0\n",
    "df.loc[(df['age']>16)&(df['age']<=32), 'age_group'] = 1\n",
    "df.loc[(df['age']>32)&(df['age']<=48), 'age_group'] = 2\n",
    "df.loc[(df['age']>48)&(df['age']<=64), 'age_group'] = 3\n",
    "df.loc[df['age']>64, 'age_group'] = 4\n",
    "df.head()"
   ]
  },
  {
   "cell_type": "code",
   "execution_count": 176,
   "id": "042229e9",
   "metadata": {},
   "outputs": [
    {
     "data": {
      "text/html": [
       "<style type=\"text/css\">\n",
       "#T_56ffa_row0_col0 {\n",
       "  background-color: #b40426;\n",
       "  color: #f1f1f1;\n",
       "}\n",
       "#T_56ffa_row1_col0 {\n",
       "  background-color: #aec9fc;\n",
       "  color: #000000;\n",
       "}\n",
       "#T_56ffa_row2_col0 {\n",
       "  background-color: #7295f4;\n",
       "  color: #f1f1f1;\n",
       "}\n",
       "#T_56ffa_row3_col0 {\n",
       "  background-color: #5e7de7;\n",
       "  color: #f1f1f1;\n",
       "}\n",
       "#T_56ffa_row4_col0 {\n",
       "  background-color: #3b4cc0;\n",
       "  color: #f1f1f1;\n",
       "}\n",
       "</style>\n",
       "<table id=\"T_56ffa\">\n",
       "  <thead>\n",
       "    <tr>\n",
       "      <th class=\"blank level0\" >&nbsp;</th>\n",
       "      <th id=\"T_56ffa_level0_col0\" class=\"col_heading level0 col0\" >age_group</th>\n",
       "    </tr>\n",
       "  </thead>\n",
       "  <tbody>\n",
       "    <tr>\n",
       "      <th id=\"T_56ffa_level0_row0\" class=\"row_heading level0 row0\" >1</th>\n",
       "      <td id=\"T_56ffa_row0_col0\" class=\"data row0 col0\" >523</td>\n",
       "    </tr>\n",
       "    <tr>\n",
       "      <th id=\"T_56ffa_level0_row1\" class=\"row_heading level0 row1\" >2</th>\n",
       "      <td id=\"T_56ffa_row1_col0\" class=\"data row1 col0\" >188</td>\n",
       "    </tr>\n",
       "    <tr>\n",
       "      <th id=\"T_56ffa_level0_row2\" class=\"row_heading level0 row2\" >0</th>\n",
       "      <td id=\"T_56ffa_row2_col0\" class=\"data row2 col0\" >100</td>\n",
       "    </tr>\n",
       "    <tr>\n",
       "      <th id=\"T_56ffa_level0_row3\" class=\"row_heading level0 row3\" >3</th>\n",
       "      <td id=\"T_56ffa_row3_col0\" class=\"data row3 col0\" >69</td>\n",
       "    </tr>\n",
       "    <tr>\n",
       "      <th id=\"T_56ffa_level0_row4\" class=\"row_heading level0 row4\" >4</th>\n",
       "      <td id=\"T_56ffa_row4_col0\" class=\"data row4 col0\" >11</td>\n",
       "    </tr>\n",
       "  </tbody>\n",
       "</table>\n"
      ],
      "text/plain": [
       "<pandas.io.formats.style.Styler at 0x1d690385b80>"
      ]
     },
     "execution_count": 176,
     "metadata": {},
     "output_type": "execute_result"
    }
   ],
   "source": [
    "# checking the number of passengers in each group.\n",
    "df['age_group'].value_counts().to_frame().style.background_gradient(cmap='coolwarm')"
   ]
  },
  {
   "cell_type": "code",
   "execution_count": null,
   "id": "20699d47",
   "metadata": {},
   "outputs": [],
   "source": []
  },
  {
   "cell_type": "code",
   "execution_count": null,
   "id": "6875962b",
   "metadata": {},
   "outputs": [],
   "source": []
  },
  {
   "cell_type": "code",
   "execution_count": null,
   "id": "9dc9fafd",
   "metadata": {},
   "outputs": [],
   "source": []
  },
  {
   "cell_type": "code",
   "execution_count": null,
   "id": "a8e16909",
   "metadata": {},
   "outputs": [],
   "source": []
  },
  {
   "cell_type": "code",
   "execution_count": null,
   "id": "7dd5838c",
   "metadata": {},
   "outputs": [],
   "source": []
  },
  {
   "cell_type": "code",
   "execution_count": null,
   "id": "d8bf8c88",
   "metadata": {},
   "outputs": [],
   "source": []
  },
  {
   "cell_type": "code",
   "execution_count": null,
   "id": "7b2fd01a",
   "metadata": {},
   "outputs": [],
   "source": []
  },
  {
   "cell_type": "code",
   "execution_count": null,
   "id": "f7138570",
   "metadata": {},
   "outputs": [],
   "source": []
  }
 ],
 "metadata": {
  "kernelspec": {
   "display_name": "Python 3 (ipykernel)",
   "language": "python",
   "name": "python3"
  },
  "language_info": {
   "codemirror_mode": {
    "name": "ipython",
    "version": 3
   },
   "file_extension": ".py",
   "mimetype": "text/x-python",
   "name": "python",
   "nbconvert_exporter": "python",
   "pygments_lexer": "ipython3",
   "version": "3.9.13"
  }
 },
 "nbformat": 4,
 "nbformat_minor": 5
}
